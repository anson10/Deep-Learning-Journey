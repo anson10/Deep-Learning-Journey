{
 "cells": [
  {
   "cell_type": "code",
   "execution_count": 59,
   "id": "23083932-ed84-4aaa-b8c7-81ead25a85f3",
   "metadata": {},
   "outputs": [],
   "source": [
    "# IMPORTING NECESSARY LIBRARIES"
   ]
  },
  {
   "cell_type": "code",
   "execution_count": 60,
   "id": "25894525-d46e-4ece-bd63-b526a89f594c",
   "metadata": {},
   "outputs": [],
   "source": [
    "import numpy as np\n",
    "from glob import glob\n",
    "import matplotlib.pyplot as plt\n",
    "\n",
    "from tensorflow.keras.layers import Input, Lambda, Dense, Flatten\n",
    "from tensorflow.keras.models import Model\n",
    "\n",
    "from tensorflow.keras.applications.resnet50 import ResNet50\n",
    "#from keras.applications.vgg16 import VGG16\n",
    "from tensorflow.keras.applications.resnet50 import preprocess_input\n",
    "from tensorflow.keras.models import Sequential\n"
   ]
  },
  {
   "cell_type": "code",
   "execution_count": 61,
   "id": "daa3b78b-94f8-46f5-803d-5204e14ee29d",
   "metadata": {},
   "outputs": [],
   "source": [
    "# IMAGE RESIZING"
   ]
  },
  {
   "cell_type": "code",
   "execution_count": 62,
   "id": "ea82f3fe-4ce9-40fe-b8f0-b372ac3bfaa7",
   "metadata": {},
   "outputs": [],
   "source": [
    "IMAGE_SIZE = [224,224]\n",
    "train_path = 'Train/'\n",
    "test_path = 'Test/'"
   ]
  },
  {
   "cell_type": "code",
   "execution_count": 63,
   "id": "5ecd2164-ee54-476f-853e-66b3e5bcf0af",
   "metadata": {},
   "outputs": [],
   "source": [
    "# IMPORTING RESNET50 AND USING IMAGENET WEIGHTS"
   ]
  },
  {
   "cell_type": "code",
   "execution_count": 64,
   "id": "100b47f2-72f0-4fd7-ac9b-b1c2602fab2a",
   "metadata": {},
   "outputs": [],
   "source": [
    "resnet = ResNet50(input_shape=IMAGE_SIZE + [3], weights=\"imagenet\", include_top=False)"
   ]
  },
  {
   "cell_type": "code",
   "execution_count": null,
   "id": "d72733aa-b7d2-4e10-9f15-b0e82c90e5f6",
   "metadata": {},
   "outputs": [],
   "source": [
    "resnet.summary()"
   ]
  },
  {
   "cell_type": "code",
   "execution_count": 66,
   "id": "43401bd5-b00f-4fa7-988a-5b7b903f9b66",
   "metadata": {},
   "outputs": [],
   "source": [
    "# NOT TRAINING EXISTING WEIGHTS"
   ]
  },
  {
   "cell_type": "code",
   "execution_count": 67,
   "id": "80efa894-8fce-4881-9ede-e24616d8b0ed",
   "metadata": {},
   "outputs": [],
   "source": [
    "for layer in resnet.layers:\n",
    "    layer.trainable = False"
   ]
  },
  {
   "cell_type": "code",
   "execution_count": 68,
   "id": "7c4295b1-1144-4f1b-84a4-c99149a4392f",
   "metadata": {},
   "outputs": [],
   "source": [
    "folders = glob('Train/*')"
   ]
  },
  {
   "cell_type": "code",
   "execution_count": null,
   "id": "ddfe397a",
   "metadata": {},
   "outputs": [],
   "source": [
    "folders"
   ]
  },
  {
   "cell_type": "code",
   "execution_count": 70,
   "id": "f71bcf9a",
   "metadata": {},
   "outputs": [],
   "source": [
    "x = Flatten()(resnet.output)"
   ]
  },
  {
   "cell_type": "code",
   "execution_count": 71,
   "id": "dc9d2886",
   "metadata": {},
   "outputs": [],
   "source": [
    "prediction = Dense(len(folders), activation='softmax')(x)"
   ]
  },
  {
   "cell_type": "code",
   "execution_count": 72,
   "id": "7659ed06",
   "metadata": {},
   "outputs": [],
   "source": [
    "base_model = Model(inputs=resnet.input, outputs = prediction)"
   ]
  },
  {
   "cell_type": "code",
   "execution_count": null,
   "id": "05979625",
   "metadata": {},
   "outputs": [],
   "source": [
    "base_model.summary()"
   ]
  },
  {
   "cell_type": "code",
   "execution_count": 74,
   "id": "55c469e6",
   "metadata": {},
   "outputs": [],
   "source": [
    "base_model.compile(\n",
    "    loss='categorical_crossentropy',\n",
    "    optimizer='adam',\n",
    "    metrics=['accuracy']\n",
    ")"
   ]
  },
  {
   "cell_type": "code",
   "execution_count": 75,
   "id": "d98746be",
   "metadata": {},
   "outputs": [],
   "source": [
    "# DATA AUGUMENTATION\n",
    "\n",
    "from tensorflow.keras.preprocessing.image import ImageDataGenerator\n",
    "\n",
    "train_datagen = ImageDataGenerator(rescale =1./255,\n",
    "                                   shear_range=0.2,\n",
    "                                   zoom_range=0.2,\n",
    "                                   horizontal_flip=True)\n",
    "\n",
    "test_datagen = ImageDataGenerator(rescale=1./255)"
   ]
  },
  {
   "cell_type": "code",
   "execution_count": null,
   "id": "42b55c12",
   "metadata": {},
   "outputs": [],
   "source": [
    "training_set = train_datagen.flow_from_directory('Train',\n",
    "                                                 target_size=(224,224),\n",
    "                                                 batch_size=32,\n",
    "                                                 class_mode = 'categorical')"
   ]
  },
  {
   "cell_type": "code",
   "execution_count": null,
   "id": "4f590cb3",
   "metadata": {},
   "outputs": [],
   "source": [
    "test_set = test_datagen.flow_from_directory('Test',\n",
    "                                            target_size=(224,224),\n",
    "                                            batch_size=32,\n",
    "                                            class_mode = 'categorical')"
   ]
  },
  {
   "cell_type": "code",
   "execution_count": null,
   "id": "2f93ca87",
   "metadata": {},
   "outputs": [],
   "source": [
    "model1 = base_model.fit(\n",
    "    training_set,\n",
    "    validation_data = test_set,\n",
    "    epochs=50\n",
    ")"
   ]
  },
  {
   "cell_type": "code",
   "execution_count": null,
   "id": "37fcbd85",
   "metadata": {},
   "outputs": [],
   "source": [
    "model1.history"
   ]
  },
  {
   "cell_type": "code",
   "execution_count": null,
   "id": "81fa6fce",
   "metadata": {},
   "outputs": [],
   "source": [
    "# PLOT ACCURACY AND LOSS\n",
    "plt.plot(model1.history['loss'], label=['train_loss'])\n",
    "plt.plot(model1.history['val_loss'], label=['val_loss'])\n",
    "plt.legend()\n",
    "plt.show()\n",
    "plt.savefig('loss graph')\n",
    "\n"
   ]
  },
  {
   "cell_type": "code",
   "execution_count": null,
   "id": "3d57372f",
   "metadata": {},
   "outputs": [],
   "source": [
    "plt.plot(model1.history['accuracy'], label='train-acc')\n",
    "plt.plot(model1.history['val_accuracy'], label='val-acc')\n",
    "plt.legend()\n",
    "plt.show()\n",
    "plt.savefig('AccVal_acc')\n"
   ]
  },
  {
   "cell_type": "code",
   "execution_count": null,
   "id": "634ba01a",
   "metadata": {},
   "outputs": [],
   "source": [
    "# SAVING THE MODEL\n",
    "\n",
    "from tensorflow.keras.saving import save_model\n",
    "\n",
    "base_model.save('resnet50_model.h5')\n"
   ]
  },
  {
   "cell_type": "code",
   "execution_count": null,
   "id": "ce162a76",
   "metadata": {},
   "outputs": [],
   "source": [
    "y_pred = base_model.predict(test_set)"
   ]
  },
  {
   "cell_type": "code",
   "execution_count": null,
   "id": "ae2aa38c",
   "metadata": {},
   "outputs": [],
   "source": [
    "y_pred"
   ]
  },
  {
   "cell_type": "code",
   "execution_count": 36,
   "id": "6d4481d3",
   "metadata": {},
   "outputs": [],
   "source": [
    "import numpy as np\n",
    "y_pred = np.argmax(y_pred, axis=1)"
   ]
  },
  {
   "cell_type": "code",
   "execution_count": null,
   "id": "f859cd89",
   "metadata": {},
   "outputs": [],
   "source": [
    "y_pred"
   ]
  },
  {
   "cell_type": "code",
   "execution_count": 38,
   "id": "2cd5f6ae",
   "metadata": {},
   "outputs": [],
   "source": [
    "from tensorflow.keras.preprocessing import image"
   ]
  },
  {
   "cell_type": "code",
   "execution_count": null,
   "id": "d184ba25",
   "metadata": {},
   "outputs": [],
   "source": [
    "model = load_model('resnet50_model.h5')"
   ]
  },
  {
   "cell_type": "code",
   "execution_count": 52,
   "id": "1f0d2104",
   "metadata": {},
   "outputs": [],
   "source": [
    "img = image.load_img('Test/mercedes/28.jpg', target_size=(224,224))"
   ]
  },
  {
   "cell_type": "code",
   "execution_count": null,
   "id": "37613c9c",
   "metadata": {},
   "outputs": [],
   "source": [
    "x = image.img_to_array(img)\n",
    "x"
   ]
  },
  {
   "cell_type": "code",
   "execution_count": null,
   "id": "ec8b2dba",
   "metadata": {},
   "outputs": [],
   "source": [
    "x.shape"
   ]
  },
  {
   "cell_type": "code",
   "execution_count": 55,
   "id": "0bdb58ef",
   "metadata": {},
   "outputs": [],
   "source": [
    "x = x/255"
   ]
  },
  {
   "cell_type": "code",
   "execution_count": null,
   "id": "46309e4c",
   "metadata": {},
   "outputs": [],
   "source": [
    "x = np.expand_dims(x, axis=0)\n",
    "img_data=preprocess_input(x)\n",
    "img_data.shape"
   ]
  },
  {
   "cell_type": "code",
   "execution_count": null,
   "id": "819d30e2",
   "metadata": {},
   "outputs": [],
   "source": [
    "base_model.predict(img_data)"
   ]
  },
  {
   "cell_type": "code",
   "execution_count": null,
   "id": "4e5d42fa",
   "metadata": {},
   "outputs": [],
   "source": [
    "a = np.argmax(model.predict(img_data), axis=1)\n",
    "a"
   ]
  },
  {
   "cell_type": "code",
   "execution_count": null,
   "id": "3cdb2564",
   "metadata": {},
   "outputs": [],
   "source": []
  }
 ],
 "metadata": {
  "kernelspec": {
   "display_name": "Python 3 (ipykernel)",
   "language": "python",
   "name": "python3"
  },
  "language_info": {
   "codemirror_mode": {
    "name": "ipython",
    "version": 3
   },
   "file_extension": ".py",
   "mimetype": "text/x-python",
   "name": "python",
   "nbconvert_exporter": "python",
   "pygments_lexer": "ipython3",
   "version": "3.11.9"
  }
 },
 "nbformat": 4,
 "nbformat_minor": 5
}
