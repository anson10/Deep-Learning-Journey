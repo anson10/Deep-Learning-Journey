{
 "cells": [
  {
   "cell_type": "code",
   "execution_count": null,
   "metadata": {},
   "outputs": [],
   "source": [
    "import tensorflow as tf\n",
    "import numpy as np\n",
    "from tensorflow.keras.layers import Embedding\n",
    "from tensorflow.keras.preprocessing.sequence import pad_sequences\n",
    "from tensorflow.keras.models import Sequential\n"
   ]
  },
  {
   "cell_type": "code",
   "execution_count": 32,
   "metadata": {},
   "outputs": [],
   "source": [
    "# Input sentences\n",
    "sentences = [\n",
    "    'The shoes of players',\n",
    "    'I am a nice guy',\n",
    "    'I am an expert',\n",
    "    'the cup of coffee',\n",
    "    'a glass of pineapple juice',\n",
    "    'the football match is good',\n",
    "    'he is very smart'\n",
    "]"
   ]
  },
  {
   "cell_type": "code",
   "execution_count": 33,
   "metadata": {},
   "outputs": [
    {
     "data": {
      "text/plain": [
       "['The shoes of players',\n",
       " 'I am a nice guy',\n",
       " 'I am an expert',\n",
       " 'the cup of coffee',\n",
       " 'a glass of pineapple juice',\n",
       " 'the football match is good',\n",
       " 'he is very smart']"
      ]
     },
     "execution_count": 33,
     "metadata": {},
     "output_type": "execute_result"
    }
   ],
   "source": [
    "sentences"
   ]
  },
  {
   "cell_type": "code",
   "execution_count": 34,
   "metadata": {},
   "outputs": [],
   "source": [
    "# One-hot representation\n",
    "vocabulary_size = 10000\n",
    "one_hot_representation = [tf.keras.preprocessing.text.one_hot(words, vocabulary_size) for words in sentences]\n"
   ]
  },
  {
   "cell_type": "code",
   "execution_count": 35,
   "metadata": {},
   "outputs": [],
   "source": [
    "# Padding sequences\n",
    "max_sentence_length = 8  # Match this with `input_length`\n",
    "embedded_sentences = pad_sequences(one_hot_representation, padding='pre', maxlen=max_sentence_length)\n"
   ]
  },
  {
   "cell_type": "code",
   "execution_count": null,
   "metadata": {},
   "outputs": [
    {
     "name": "stderr",
     "output_type": "stream",
     "text": [
      "/home/anson/miniconda3/envs/tf/lib/python3.10/site-packages/keras/src/layers/core/embedding.py:90: UserWarning: Argument `input_length` is deprecated. Just remove it.\n",
      "  warnings.warn(\n"
     ]
    }
   ],
   "source": [
    "# Defining model\n",
    "dimension = 10  # Embedding dimension\n",
    "model = Sequential()\n",
    "model.add(Embedding(input_dim=vocabulary_size, output_dim=dimension, input_length=max_sentence_length))\n",
    "model.compile(optimizer='adam', loss='mse')"
   ]
  },
  {
   "cell_type": "code",
   "execution_count": 37,
   "metadata": {},
   "outputs": [
    {
     "data": {
      "text/html": [
       "<pre style=\"white-space:pre;overflow-x:auto;line-height:normal;font-family:Menlo,'DejaVu Sans Mono',consolas,'Courier New',monospace\"><span style=\"font-weight: bold\">Model: \"sequential_8\"</span>\n",
       "</pre>\n"
      ],
      "text/plain": [
       "\u001b[1mModel: \"sequential_8\"\u001b[0m\n"
      ]
     },
     "metadata": {},
     "output_type": "display_data"
    },
    {
     "data": {
      "text/html": [
       "<pre style=\"white-space:pre;overflow-x:auto;line-height:normal;font-family:Menlo,'DejaVu Sans Mono',consolas,'Courier New',monospace\">┏━━━━━━━━━━━━━━━━━━━━━━━━━━━━━━━━━┳━━━━━━━━━━━━━━━━━━━━━━━━┳━━━━━━━━━━━━━━━┓\n",
       "┃<span style=\"font-weight: bold\"> Layer (type)                    </span>┃<span style=\"font-weight: bold\"> Output Shape           </span>┃<span style=\"font-weight: bold\">       Param # </span>┃\n",
       "┡━━━━━━━━━━━━━━━━━━━━━━━━━━━━━━━━━╇━━━━━━━━━━━━━━━━━━━━━━━━╇━━━━━━━━━━━━━━━┩\n",
       "│ embedding_8 (<span style=\"color: #0087ff; text-decoration-color: #0087ff\">Embedding</span>)         │ ?                      │   <span style=\"color: #00af00; text-decoration-color: #00af00\">0</span> (unbuilt) │\n",
       "└─────────────────────────────────┴────────────────────────┴───────────────┘\n",
       "</pre>\n"
      ],
      "text/plain": [
       "┏━━━━━━━━━━━━━━━━━━━━━━━━━━━━━━━━━┳━━━━━━━━━━━━━━━━━━━━━━━━┳━━━━━━━━━━━━━━━┓\n",
       "┃\u001b[1m \u001b[0m\u001b[1mLayer (type)                   \u001b[0m\u001b[1m \u001b[0m┃\u001b[1m \u001b[0m\u001b[1mOutput Shape          \u001b[0m\u001b[1m \u001b[0m┃\u001b[1m \u001b[0m\u001b[1m      Param #\u001b[0m\u001b[1m \u001b[0m┃\n",
       "┡━━━━━━━━━━━━━━━━━━━━━━━━━━━━━━━━━╇━━━━━━━━━━━━━━━━━━━━━━━━╇━━━━━━━━━━━━━━━┩\n",
       "│ embedding_8 (\u001b[38;5;33mEmbedding\u001b[0m)         │ ?                      │   \u001b[38;5;34m0\u001b[0m (unbuilt) │\n",
       "└─────────────────────────────────┴────────────────────────┴───────────────┘\n"
      ]
     },
     "metadata": {},
     "output_type": "display_data"
    },
    {
     "data": {
      "text/html": [
       "<pre style=\"white-space:pre;overflow-x:auto;line-height:normal;font-family:Menlo,'DejaVu Sans Mono',consolas,'Courier New',monospace\"><span style=\"font-weight: bold\"> Total params: </span><span style=\"color: #00af00; text-decoration-color: #00af00\">0</span> (0.00 B)\n",
       "</pre>\n"
      ],
      "text/plain": [
       "\u001b[1m Total params: \u001b[0m\u001b[38;5;34m0\u001b[0m (0.00 B)\n"
      ]
     },
     "metadata": {},
     "output_type": "display_data"
    },
    {
     "data": {
      "text/html": [
       "<pre style=\"white-space:pre;overflow-x:auto;line-height:normal;font-family:Menlo,'DejaVu Sans Mono',consolas,'Courier New',monospace\"><span style=\"font-weight: bold\"> Trainable params: </span><span style=\"color: #00af00; text-decoration-color: #00af00\">0</span> (0.00 B)\n",
       "</pre>\n"
      ],
      "text/plain": [
       "\u001b[1m Trainable params: \u001b[0m\u001b[38;5;34m0\u001b[0m (0.00 B)\n"
      ]
     },
     "metadata": {},
     "output_type": "display_data"
    },
    {
     "data": {
      "text/html": [
       "<pre style=\"white-space:pre;overflow-x:auto;line-height:normal;font-family:Menlo,'DejaVu Sans Mono',consolas,'Courier New',monospace\"><span style=\"font-weight: bold\"> Non-trainable params: </span><span style=\"color: #00af00; text-decoration-color: #00af00\">0</span> (0.00 B)\n",
       "</pre>\n"
      ],
      "text/plain": [
       "\u001b[1m Non-trainable params: \u001b[0m\u001b[38;5;34m0\u001b[0m (0.00 B)\n"
      ]
     },
     "metadata": {},
     "output_type": "display_data"
    }
   ],
   "source": [
    "# Model Summary\n",
    "\n",
    "model.summary()"
   ]
  },
  {
   "cell_type": "code",
   "execution_count": 38,
   "metadata": {},
   "outputs": [
    {
     "name": "stderr",
     "output_type": "stream",
     "text": [
      "WARNING: All log messages before absl::InitializeLog() is called are written to STDERR\n",
      "I0000 00:00:1733592308.538204    6253 service.cc:148] XLA service 0x7f1a80003150 initialized for platform CUDA (this does not guarantee that XLA will be used). Devices:\n",
      "I0000 00:00:1733592308.540099    6253 service.cc:156]   StreamExecutor device (0): NVIDIA GeForce RTX 3050 6GB Laptop GPU, Compute Capability 8.6\n",
      "I0000 00:00:1733592308.602889    6253 cuda_dnn.cc:529] Loaded cuDNN version 90300\n"
     ]
    },
    {
     "name": "stdout",
     "output_type": "stream",
     "text": [
      "\u001b[1m1/1\u001b[0m \u001b[32m━━━━━━━━━━━━━━━━━━━━\u001b[0m\u001b[37m\u001b[0m \u001b[1m1s\u001b[0m 789ms/step\n"
     ]
    },
    {
     "name": "stderr",
     "output_type": "stream",
     "text": [
      "I0000 00:00:1733592309.094387    6253 device_compiler.h:188] Compiled cluster using XLA!  This line is logged at most once for the lifetime of the process.\n"
     ]
    },
    {
     "data": {
      "text/plain": [
       "array([[[-4.40173745e-02, -1.88071616e-02, -1.73249841e-02,\n",
       "         -3.58111262e-02,  8.47161934e-03, -9.45924595e-03,\n",
       "          1.22260451e-02, -1.52032264e-02, -3.31138447e-03,\n",
       "          1.16938129e-02],\n",
       "        [-4.40173745e-02, -1.88071616e-02, -1.73249841e-02,\n",
       "         -3.58111262e-02,  8.47161934e-03, -9.45924595e-03,\n",
       "          1.22260451e-02, -1.52032264e-02, -3.31138447e-03,\n",
       "          1.16938129e-02],\n",
       "        [-4.40173745e-02, -1.88071616e-02, -1.73249841e-02,\n",
       "         -3.58111262e-02,  8.47161934e-03, -9.45924595e-03,\n",
       "          1.22260451e-02, -1.52032264e-02, -3.31138447e-03,\n",
       "          1.16938129e-02],\n",
       "        [-4.40173745e-02, -1.88071616e-02, -1.73249841e-02,\n",
       "         -3.58111262e-02,  8.47161934e-03, -9.45924595e-03,\n",
       "          1.22260451e-02, -1.52032264e-02, -3.31138447e-03,\n",
       "          1.16938129e-02],\n",
       "        [-2.32744459e-02,  2.08312757e-02, -4.77967635e-02,\n",
       "         -8.91929865e-03, -2.44603157e-02,  5.69994375e-03,\n",
       "          3.58045809e-02,  2.54202224e-02, -4.12161723e-02,\n",
       "          3.87588888e-03],\n",
       "        [-3.66267934e-02,  1.44384988e-02,  3.77656706e-02,\n",
       "         -8.60548019e-03,  5.01323864e-03,  2.07614414e-02,\n",
       "         -2.29513533e-02,  1.88373215e-02, -4.38112132e-02,\n",
       "          3.61224748e-02],\n",
       "        [-1.19446144e-02, -4.98295426e-02, -1.69828311e-02,\n",
       "          3.42104696e-02, -3.97122279e-02, -2.99448725e-02,\n",
       "          1.53874047e-02,  3.28099728e-03, -1.11985318e-02,\n",
       "          3.10390852e-02],\n",
       "        [ 4.07761335e-03,  3.77815105e-02, -2.04270370e-02,\n",
       "         -1.76548474e-02,  4.35619839e-02, -8.88347626e-04,\n",
       "          1.41478218e-02,  1.25967525e-02, -4.56727408e-02,\n",
       "         -1.50434263e-02]],\n",
       "\n",
       "       [[-4.40173745e-02, -1.88071616e-02, -1.73249841e-02,\n",
       "         -3.58111262e-02,  8.47161934e-03, -9.45924595e-03,\n",
       "          1.22260451e-02, -1.52032264e-02, -3.31138447e-03,\n",
       "          1.16938129e-02],\n",
       "        [-4.40173745e-02, -1.88071616e-02, -1.73249841e-02,\n",
       "         -3.58111262e-02,  8.47161934e-03, -9.45924595e-03,\n",
       "          1.22260451e-02, -1.52032264e-02, -3.31138447e-03,\n",
       "          1.16938129e-02],\n",
       "        [-4.40173745e-02, -1.88071616e-02, -1.73249841e-02,\n",
       "         -3.58111262e-02,  8.47161934e-03, -9.45924595e-03,\n",
       "          1.22260451e-02, -1.52032264e-02, -3.31138447e-03,\n",
       "          1.16938129e-02],\n",
       "        [ 2.19397806e-02,  1.65800340e-02,  2.19204910e-02,\n",
       "         -3.60012650e-02,  3.56496312e-02,  2.75459923e-02,\n",
       "         -9.02060419e-03, -1.43455863e-02,  3.18752266e-02,\n",
       "         -4.71056364e-02],\n",
       "        [-1.70108676e-02, -3.72965708e-02, -2.16706879e-02,\n",
       "          4.79395501e-02, -4.57215421e-02, -1.17176771e-03,\n",
       "          2.12188698e-02,  1.86014287e-02, -2.39492897e-02,\n",
       "          1.05214603e-02],\n",
       "        [ 1.70944594e-02, -2.21306216e-02,  1.24247447e-02,\n",
       "         -3.21148522e-02, -2.66858470e-02,  5.73755428e-03,\n",
       "          3.74019779e-02, -2.35038996e-02, -3.79471667e-02,\n",
       "         -3.05783395e-02],\n",
       "        [ 4.36749794e-02,  4.58278693e-02,  4.92091663e-02,\n",
       "          4.06465195e-02,  2.93276422e-02,  2.32937820e-02,\n",
       "          9.76177305e-03, -2.09920760e-02, -8.89551640e-03,\n",
       "          5.57367876e-03],\n",
       "        [ 4.11318205e-02, -1.40770301e-02,  4.46492918e-02,\n",
       "          4.10183333e-02, -2.01953892e-02,  4.66186516e-02,\n",
       "         -3.56463902e-02, -3.31389904e-03, -3.71756181e-02,\n",
       "         -1.58843398e-02]],\n",
       "\n",
       "       [[-4.40173745e-02, -1.88071616e-02, -1.73249841e-02,\n",
       "         -3.58111262e-02,  8.47161934e-03, -9.45924595e-03,\n",
       "          1.22260451e-02, -1.52032264e-02, -3.31138447e-03,\n",
       "          1.16938129e-02],\n",
       "        [-4.40173745e-02, -1.88071616e-02, -1.73249841e-02,\n",
       "         -3.58111262e-02,  8.47161934e-03, -9.45924595e-03,\n",
       "          1.22260451e-02, -1.52032264e-02, -3.31138447e-03,\n",
       "          1.16938129e-02],\n",
       "        [-4.40173745e-02, -1.88071616e-02, -1.73249841e-02,\n",
       "         -3.58111262e-02,  8.47161934e-03, -9.45924595e-03,\n",
       "          1.22260451e-02, -1.52032264e-02, -3.31138447e-03,\n",
       "          1.16938129e-02],\n",
       "        [-4.40173745e-02, -1.88071616e-02, -1.73249841e-02,\n",
       "         -3.58111262e-02,  8.47161934e-03, -9.45924595e-03,\n",
       "          1.22260451e-02, -1.52032264e-02, -3.31138447e-03,\n",
       "          1.16938129e-02],\n",
       "        [ 2.19397806e-02,  1.65800340e-02,  2.19204910e-02,\n",
       "         -3.60012650e-02,  3.56496312e-02,  2.75459923e-02,\n",
       "         -9.02060419e-03, -1.43455863e-02,  3.18752266e-02,\n",
       "         -4.71056364e-02],\n",
       "        [-1.70108676e-02, -3.72965708e-02, -2.16706879e-02,\n",
       "          4.79395501e-02, -4.57215421e-02, -1.17176771e-03,\n",
       "          2.12188698e-02,  1.86014287e-02, -2.39492897e-02,\n",
       "          1.05214603e-02],\n",
       "        [-3.72549184e-02, -3.72844562e-02, -2.76404377e-02,\n",
       "         -4.91127372e-02, -4.36743386e-02, -8.80957767e-03,\n",
       "          1.51540302e-02, -3.10954452e-02,  3.49452831e-02,\n",
       "          4.34044115e-02],\n",
       "        [ 4.63194735e-02,  1.41784661e-02,  2.96733044e-02,\n",
       "          3.56147923e-02, -2.04531308e-02, -5.34138829e-03,\n",
       "          1.41341425e-02, -3.93508449e-02, -2.66929511e-02,\n",
       "         -3.38240266e-02]],\n",
       "\n",
       "       [[-4.40173745e-02, -1.88071616e-02, -1.73249841e-02,\n",
       "         -3.58111262e-02,  8.47161934e-03, -9.45924595e-03,\n",
       "          1.22260451e-02, -1.52032264e-02, -3.31138447e-03,\n",
       "          1.16938129e-02],\n",
       "        [-4.40173745e-02, -1.88071616e-02, -1.73249841e-02,\n",
       "         -3.58111262e-02,  8.47161934e-03, -9.45924595e-03,\n",
       "          1.22260451e-02, -1.52032264e-02, -3.31138447e-03,\n",
       "          1.16938129e-02],\n",
       "        [-4.40173745e-02, -1.88071616e-02, -1.73249841e-02,\n",
       "         -3.58111262e-02,  8.47161934e-03, -9.45924595e-03,\n",
       "          1.22260451e-02, -1.52032264e-02, -3.31138447e-03,\n",
       "          1.16938129e-02],\n",
       "        [-4.40173745e-02, -1.88071616e-02, -1.73249841e-02,\n",
       "         -3.58111262e-02,  8.47161934e-03, -9.45924595e-03,\n",
       "          1.22260451e-02, -1.52032264e-02, -3.31138447e-03,\n",
       "          1.16938129e-02],\n",
       "        [-2.32744459e-02,  2.08312757e-02, -4.77967635e-02,\n",
       "         -8.91929865e-03, -2.44603157e-02,  5.69994375e-03,\n",
       "          3.58045809e-02,  2.54202224e-02, -4.12161723e-02,\n",
       "          3.87588888e-03],\n",
       "        [-1.42479315e-02, -3.77900712e-02, -4.57860939e-02,\n",
       "         -3.05110458e-02, -2.57673264e-02, -4.81818691e-02,\n",
       "         -4.05579582e-02, -4.80785482e-02,  4.05637510e-02,\n",
       "          4.09746431e-02],\n",
       "        [-1.19446144e-02, -4.98295426e-02, -1.69828311e-02,\n",
       "          3.42104696e-02, -3.97122279e-02, -2.99448725e-02,\n",
       "          1.53874047e-02,  3.28099728e-03, -1.11985318e-02,\n",
       "          3.10390852e-02],\n",
       "        [-2.15349197e-02,  2.17747428e-02, -2.02087164e-02,\n",
       "          4.25850190e-02, -3.52308899e-03, -5.95479086e-03,\n",
       "          1.54141448e-02, -4.58488576e-02,  3.74003537e-02,\n",
       "         -4.84900549e-03]],\n",
       "\n",
       "       [[-4.40173745e-02, -1.88071616e-02, -1.73249841e-02,\n",
       "         -3.58111262e-02,  8.47161934e-03, -9.45924595e-03,\n",
       "          1.22260451e-02, -1.52032264e-02, -3.31138447e-03,\n",
       "          1.16938129e-02],\n",
       "        [-4.40173745e-02, -1.88071616e-02, -1.73249841e-02,\n",
       "         -3.58111262e-02,  8.47161934e-03, -9.45924595e-03,\n",
       "          1.22260451e-02, -1.52032264e-02, -3.31138447e-03,\n",
       "          1.16938129e-02],\n",
       "        [-4.40173745e-02, -1.88071616e-02, -1.73249841e-02,\n",
       "         -3.58111262e-02,  8.47161934e-03, -9.45924595e-03,\n",
       "          1.22260451e-02, -1.52032264e-02, -3.31138447e-03,\n",
       "          1.16938129e-02],\n",
       "        [ 1.70944594e-02, -2.21306216e-02,  1.24247447e-02,\n",
       "         -3.21148522e-02, -2.66858470e-02,  5.73755428e-03,\n",
       "          3.74019779e-02, -2.35038996e-02, -3.79471667e-02,\n",
       "         -3.05783395e-02],\n",
       "        [ 3.58708389e-02,  3.56874801e-02, -1.81432255e-02,\n",
       "         -3.48948613e-02,  1.50395893e-02, -1.18362904e-03,\n",
       "          2.76456513e-02, -4.52603586e-02, -4.72820178e-02,\n",
       "          3.55294235e-02],\n",
       "        [-1.19446144e-02, -4.98295426e-02, -1.69828311e-02,\n",
       "          3.42104696e-02, -3.97122279e-02, -2.99448725e-02,\n",
       "          1.53874047e-02,  3.28099728e-03, -1.11985318e-02,\n",
       "          3.10390852e-02],\n",
       "        [ 3.59650888e-02, -4.29320224e-02,  3.89354341e-02,\n",
       "          4.19668444e-02, -2.97237877e-02, -8.74713808e-03,\n",
       "          3.63325737e-02, -1.85182318e-02, -3.15474868e-02,\n",
       "         -2.49038823e-02],\n",
       "        [ 4.93598692e-02, -2.28717458e-02,  2.39356421e-02,\n",
       "          1.99403279e-02, -4.32833917e-02, -3.28914411e-02,\n",
       "          4.12018411e-02, -1.94454193e-03, -1.42525323e-02,\n",
       "          9.84675810e-03]],\n",
       "\n",
       "       [[-4.40173745e-02, -1.88071616e-02, -1.73249841e-02,\n",
       "         -3.58111262e-02,  8.47161934e-03, -9.45924595e-03,\n",
       "          1.22260451e-02, -1.52032264e-02, -3.31138447e-03,\n",
       "          1.16938129e-02],\n",
       "        [-4.40173745e-02, -1.88071616e-02, -1.73249841e-02,\n",
       "         -3.58111262e-02,  8.47161934e-03, -9.45924595e-03,\n",
       "          1.22260451e-02, -1.52032264e-02, -3.31138447e-03,\n",
       "          1.16938129e-02],\n",
       "        [-4.40173745e-02, -1.88071616e-02, -1.73249841e-02,\n",
       "         -3.58111262e-02,  8.47161934e-03, -9.45924595e-03,\n",
       "          1.22260451e-02, -1.52032264e-02, -3.31138447e-03,\n",
       "          1.16938129e-02],\n",
       "        [-2.32744459e-02,  2.08312757e-02, -4.77967635e-02,\n",
       "         -8.91929865e-03, -2.44603157e-02,  5.69994375e-03,\n",
       "          3.58045809e-02,  2.54202224e-02, -4.12161723e-02,\n",
       "          3.87588888e-03],\n",
       "        [-8.69923830e-03,  2.15987228e-02,  2.58563645e-02,\n",
       "          1.46384165e-03, -7.62944296e-03,  3.26417200e-02,\n",
       "          4.59701940e-03,  2.00157873e-02,  2.24117972e-02,\n",
       "          9.52658802e-03],\n",
       "        [ 2.83915922e-03,  1.48231424e-02, -1.16322637e-02,\n",
       "          5.40553406e-03, -1.65332481e-03, -1.30038857e-02,\n",
       "         -1.67861581e-05, -2.22391617e-02, -3.51115093e-02,\n",
       "         -7.14783743e-03],\n",
       "        [ 7.66754150e-03, -2.14408040e-02, -4.29167859e-02,\n",
       "          1.75036490e-04,  1.76281221e-02,  3.32845785e-02,\n",
       "          6.79308176e-03, -1.49969347e-02,  8.94201919e-03,\n",
       "         -3.45156305e-02],\n",
       "        [ 4.74550389e-02,  4.17393707e-02,  3.37853692e-02,\n",
       "          4.38580550e-02, -4.24931422e-02, -2.58274209e-02,\n",
       "          1.22061744e-02,  1.51287764e-04, -2.61249784e-02,\n",
       "         -2.62142662e-02]],\n",
       "\n",
       "       [[-4.40173745e-02, -1.88071616e-02, -1.73249841e-02,\n",
       "         -3.58111262e-02,  8.47161934e-03, -9.45924595e-03,\n",
       "          1.22260451e-02, -1.52032264e-02, -3.31138447e-03,\n",
       "          1.16938129e-02],\n",
       "        [-4.40173745e-02, -1.88071616e-02, -1.73249841e-02,\n",
       "         -3.58111262e-02,  8.47161934e-03, -9.45924595e-03,\n",
       "          1.22260451e-02, -1.52032264e-02, -3.31138447e-03,\n",
       "          1.16938129e-02],\n",
       "        [-4.40173745e-02, -1.88071616e-02, -1.73249841e-02,\n",
       "         -3.58111262e-02,  8.47161934e-03, -9.45924595e-03,\n",
       "          1.22260451e-02, -1.52032264e-02, -3.31138447e-03,\n",
       "          1.16938129e-02],\n",
       "        [-4.40173745e-02, -1.88071616e-02, -1.73249841e-02,\n",
       "         -3.58111262e-02,  8.47161934e-03, -9.45924595e-03,\n",
       "          1.22260451e-02, -1.52032264e-02, -3.31138447e-03,\n",
       "          1.16938129e-02],\n",
       "        [ 4.96643521e-02,  4.34945263e-02, -2.51628458e-04,\n",
       "          7.06911087e-03,  3.18411477e-02, -1.01881102e-03,\n",
       "         -1.95186269e-02, -1.09893680e-02, -1.37681589e-02,\n",
       "          1.06554143e-02],\n",
       "        [ 7.66754150e-03, -2.14408040e-02, -4.29167859e-02,\n",
       "          1.75036490e-04,  1.76281221e-02,  3.32845785e-02,\n",
       "          6.79308176e-03, -1.49969347e-02,  8.94201919e-03,\n",
       "         -3.45156305e-02],\n",
       "        [-1.86058655e-02, -1.97398309e-02, -2.73579843e-02,\n",
       "         -1.74057968e-02,  3.84167172e-02,  4.08047177e-02,\n",
       "         -1.45153403e-02, -1.22456662e-02, -5.64265996e-04,\n",
       "         -3.68967764e-02],\n",
       "        [-2.69620549e-02, -3.97441015e-02, -4.30263169e-02,\n",
       "          4.44885343e-03, -3.45885754e-03,  1.18605271e-02,\n",
       "         -3.52154374e-02, -4.11648862e-02,  1.71629339e-03,\n",
       "         -4.24098857e-02]]], dtype=float32)"
      ]
     },
     "execution_count": 38,
     "metadata": {},
     "output_type": "execute_result"
    }
   ],
   "source": [
    "model.predict(embedded_sentences)"
   ]
  },
  {
   "cell_type": "code",
   "execution_count": 39,
   "metadata": {},
   "outputs": [
    {
     "data": {
      "text/html": [
       "<pre style=\"white-space:pre;overflow-x:auto;line-height:normal;font-family:Menlo,'DejaVu Sans Mono',consolas,'Courier New',monospace\"><span style=\"font-weight: bold\">Model: \"sequential_8\"</span>\n",
       "</pre>\n"
      ],
      "text/plain": [
       "\u001b[1mModel: \"sequential_8\"\u001b[0m\n"
      ]
     },
     "metadata": {},
     "output_type": "display_data"
    },
    {
     "data": {
      "text/html": [
       "<pre style=\"white-space:pre;overflow-x:auto;line-height:normal;font-family:Menlo,'DejaVu Sans Mono',consolas,'Courier New',monospace\">┏━━━━━━━━━━━━━━━━━━━━━━━━━━━━━━━━━┳━━━━━━━━━━━━━━━━━━━━━━━━┳━━━━━━━━━━━━━━━┓\n",
       "┃<span style=\"font-weight: bold\"> Layer (type)                    </span>┃<span style=\"font-weight: bold\"> Output Shape           </span>┃<span style=\"font-weight: bold\">       Param # </span>┃\n",
       "┡━━━━━━━━━━━━━━━━━━━━━━━━━━━━━━━━━╇━━━━━━━━━━━━━━━━━━━━━━━━╇━━━━━━━━━━━━━━━┩\n",
       "│ embedding_8 (<span style=\"color: #0087ff; text-decoration-color: #0087ff\">Embedding</span>)         │ (<span style=\"color: #00af00; text-decoration-color: #00af00\">7</span>, <span style=\"color: #00af00; text-decoration-color: #00af00\">8</span>, <span style=\"color: #00af00; text-decoration-color: #00af00\">10</span>)             │       <span style=\"color: #00af00; text-decoration-color: #00af00\">100,000</span> │\n",
       "└─────────────────────────────────┴────────────────────────┴───────────────┘\n",
       "</pre>\n"
      ],
      "text/plain": [
       "┏━━━━━━━━━━━━━━━━━━━━━━━━━━━━━━━━━┳━━━━━━━━━━━━━━━━━━━━━━━━┳━━━━━━━━━━━━━━━┓\n",
       "┃\u001b[1m \u001b[0m\u001b[1mLayer (type)                   \u001b[0m\u001b[1m \u001b[0m┃\u001b[1m \u001b[0m\u001b[1mOutput Shape          \u001b[0m\u001b[1m \u001b[0m┃\u001b[1m \u001b[0m\u001b[1m      Param #\u001b[0m\u001b[1m \u001b[0m┃\n",
       "┡━━━━━━━━━━━━━━━━━━━━━━━━━━━━━━━━━╇━━━━━━━━━━━━━━━━━━━━━━━━╇━━━━━━━━━━━━━━━┩\n",
       "│ embedding_8 (\u001b[38;5;33mEmbedding\u001b[0m)         │ (\u001b[38;5;34m7\u001b[0m, \u001b[38;5;34m8\u001b[0m, \u001b[38;5;34m10\u001b[0m)             │       \u001b[38;5;34m100,000\u001b[0m │\n",
       "└─────────────────────────────────┴────────────────────────┴───────────────┘\n"
      ]
     },
     "metadata": {},
     "output_type": "display_data"
    },
    {
     "data": {
      "text/html": [
       "<pre style=\"white-space:pre;overflow-x:auto;line-height:normal;font-family:Menlo,'DejaVu Sans Mono',consolas,'Courier New',monospace\"><span style=\"font-weight: bold\"> Total params: </span><span style=\"color: #00af00; text-decoration-color: #00af00\">100,000</span> (390.62 KB)\n",
       "</pre>\n"
      ],
      "text/plain": [
       "\u001b[1m Total params: \u001b[0m\u001b[38;5;34m100,000\u001b[0m (390.62 KB)\n"
      ]
     },
     "metadata": {},
     "output_type": "display_data"
    },
    {
     "data": {
      "text/html": [
       "<pre style=\"white-space:pre;overflow-x:auto;line-height:normal;font-family:Menlo,'DejaVu Sans Mono',consolas,'Courier New',monospace\"><span style=\"font-weight: bold\"> Trainable params: </span><span style=\"color: #00af00; text-decoration-color: #00af00\">100,000</span> (390.62 KB)\n",
       "</pre>\n"
      ],
      "text/plain": [
       "\u001b[1m Trainable params: \u001b[0m\u001b[38;5;34m100,000\u001b[0m (390.62 KB)\n"
      ]
     },
     "metadata": {},
     "output_type": "display_data"
    },
    {
     "data": {
      "text/html": [
       "<pre style=\"white-space:pre;overflow-x:auto;line-height:normal;font-family:Menlo,'DejaVu Sans Mono',consolas,'Courier New',monospace\"><span style=\"font-weight: bold\"> Non-trainable params: </span><span style=\"color: #00af00; text-decoration-color: #00af00\">0</span> (0.00 B)\n",
       "</pre>\n"
      ],
      "text/plain": [
       "\u001b[1m Non-trainable params: \u001b[0m\u001b[38;5;34m0\u001b[0m (0.00 B)\n"
      ]
     },
     "metadata": {},
     "output_type": "display_data"
    }
   ],
   "source": [
    "model.summary()"
   ]
  },
  {
   "cell_type": "code",
   "execution_count": 40,
   "metadata": {},
   "outputs": [
    {
     "data": {
      "text/plain": [
       "array([   0,    0,    0,    0, 6128, 2222, 2179, 1981], dtype=int32)"
      ]
     },
     "execution_count": 40,
     "metadata": {},
     "output_type": "execute_result"
    }
   ],
   "source": [
    "embedded_sentences[0]"
   ]
  },
  {
   "cell_type": "code",
   "execution_count": 42,
   "metadata": {},
   "outputs": [
    {
     "name": "stdout",
     "output_type": "stream",
     "text": [
      "\u001b[1m1/1\u001b[0m \u001b[32m━━━━━━━━━━━━━━━━━━━━\u001b[0m\u001b[37m\u001b[0m \u001b[1m0s\u001b[0m 44ms/step\n",
      "[[-0.04401737 -0.01880716 -0.01732498 -0.03581113  0.00847162 -0.00945925\n",
      "   0.01222605 -0.01520323 -0.00331138  0.01169381]\n",
      " [-0.04401737 -0.01880716 -0.01732498 -0.03581113  0.00847162 -0.00945925\n",
      "   0.01222605 -0.01520323 -0.00331138  0.01169381]\n",
      " [-0.04401737 -0.01880716 -0.01732498 -0.03581113  0.00847162 -0.00945925\n",
      "   0.01222605 -0.01520323 -0.00331138  0.01169381]\n",
      " [-0.04401737 -0.01880716 -0.01732498 -0.03581113  0.00847162 -0.00945925\n",
      "   0.01222605 -0.01520323 -0.00331138  0.01169381]\n",
      " [-0.02327445  0.02083128 -0.04779676 -0.0089193  -0.02446032  0.00569994\n",
      "   0.03580458  0.02542022 -0.04121617  0.00387589]\n",
      " [-0.03662679  0.0144385   0.03776567 -0.00860548  0.00501324  0.02076144\n",
      "  -0.02295135  0.01883732 -0.04381121  0.03612247]\n",
      " [-0.01194461 -0.04982954 -0.01698283  0.03421047 -0.03971223 -0.02994487\n",
      "   0.0153874   0.003281   -0.01119853  0.03103909]\n",
      " [ 0.00407761  0.03778151 -0.02042704 -0.01765485  0.04356198 -0.00088835\n",
      "   0.01414782  0.01259675 -0.04567274 -0.01504343]]\n"
     ]
    }
   ],
   "source": [
    "print(model.predict(embedded_sentences)[0])"
   ]
  },
  {
   "cell_type": "code",
   "execution_count": null,
   "metadata": {},
   "outputs": [],
   "source": []
  }
 ],
 "metadata": {
  "kernelspec": {
   "display_name": "tf",
   "language": "python",
   "name": "python3"
  },
  "language_info": {
   "codemirror_mode": {
    "name": "ipython",
    "version": 3
   },
   "file_extension": ".py",
   "mimetype": "text/x-python",
   "name": "python",
   "nbconvert_exporter": "python",
   "pygments_lexer": "ipython3",
   "version": "3.10.15"
  }
 },
 "nbformat": 4,
 "nbformat_minor": 2
}
