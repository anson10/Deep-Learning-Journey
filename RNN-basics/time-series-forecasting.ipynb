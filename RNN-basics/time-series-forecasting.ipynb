{
 "cells": [
  {
   "cell_type": "code",
   "execution_count": null,
   "id": "cd126daf-7efb-4a10-8cbe-31163a506439",
   "metadata": {},
   "outputs": [],
   "source": [
    "# !pip3 install pillow"
   ]
  },
  {
   "cell_type": "code",
   "execution_count": null,
   "id": "daa6dfd3-cc7b-4c69-a9c6-8c04bf6af328",
   "metadata": {},
   "outputs": [],
   "source": [
    "import tensorflow as tf;\n",
    "import pandas as pd\n",
    "from pathlib import Path\n",
    "import PIL\n",
    "from PIL import Image"
   ]
  },
  {
   "cell_type": "code",
   "execution_count": null,
   "id": "88724167-ce01-4eac-9b25-62fc45578677",
   "metadata": {},
   "outputs": [],
   "source": [
    "import tensorflow as tf\n",
    "print(\"Num GPUs Available: \", len(tf.config.list_physical_devices('GPU')))\n"
   ]
  },
  {
   "cell_type": "code",
   "execution_count": null,
   "id": "7bb90400-0542-4958-91b8-9c2888addc91",
   "metadata": {},
   "outputs": [],
   "source": [
    "IMAGES_PATH = Path() / \"images\" / \"rnn\"\n",
    "IMAGES_PATH.mkdir(parents=True, exist_ok=True)\n",
    "\n",
    "def save_fig(fig_id, tight_layout=True, fig_extension=\"png\", resolution=300):\n",
    "    path = IMAGES_PATH / f\"{fig_id}.{fig_extension}\"\n",
    "    if tight_layout:\n",
    "        plt.tight_layout()\n",
    "    plt.savefig(path, format=fig_extension, dpi=resolution)"
   ]
  },
  {
   "cell_type": "code",
   "execution_count": null,
   "id": "af0b11e0-9684-4cfc-8c96-848c68a05ddb",
   "metadata": {},
   "outputs": [],
   "source": [
    "# downloading dataset: Chicago's Data Portal\n",
    "\n",
    "tf.keras.utils.get_file(\n",
    "    \"ridership.tgz\",\n",
    "    \"https://github.com/ageron/data/raw/main/ridership.tgz\",\n",
    "    cache_dir=\".\",\n",
    "    extract=True\n",
    ")"
   ]
  },
  {
   "cell_type": "code",
   "execution_count": null,
   "id": "d0531613-7e86-4c2d-8916-4f3d73662a40",
   "metadata": {},
   "outputs": [],
   "source": [
    "path = Path(\"datasets/ridership_extracted/ridership/ridership.csv\")\n",
    "df = pd.read_csv(path, parse_dates=[\"service_date\"])\n",
    "\n",
    "df.columns = [\"date\", \"day_type\", \"bus\", \"rail\", \"total\"]  # shorter names\n",
    "df = df.sort_values(\"date\").set_index(\"date\")\n",
    "df = df.drop(\"total\", axis=1)  \n",
    "df = df.drop_duplicates()  "
   ]
  },
  {
   "cell_type": "code",
   "execution_count": null,
   "id": "fc5e7a35-f8d0-40cf-9bd2-5e73e5fb9aac",
   "metadata": {},
   "outputs": [],
   "source": [
    "df.head()"
   ]
  },
  {
   "cell_type": "code",
   "execution_count": null,
   "id": "009e7523-ec58-4d2f-b940-2865a40dfb60",
   "metadata": {},
   "outputs": [],
   "source": []
  },
  {
   "cell_type": "code",
   "execution_count": null,
   "id": "2453b47d-2127-428c-83d5-5b6e1ce86024",
   "metadata": {},
   "outputs": [],
   "source": [
    "import matplotlib.pyplot as plt\n",
    "\n",
    "df[\"2019-03\":\"2019-05\"].plot(grid=True, marker=\".\", figsize=(8, 3.5))\n",
    "\n",
    "plt.legend(loc=\"upper left\", bbox_to_anchor=(1, 1))\n",
    "plt.tight_layout()  \n",
    "save_fig(\"daily_ridership_plot\") \n",
    "plt.show()"
   ]
  },
  {
   "cell_type": "code",
   "execution_count": null,
   "id": "11a96137-f26e-4f40-93bf-c6465bea88bb",
   "metadata": {},
   "outputs": [],
   "source": [
    "# try naive forecasting\n",
    "\n",
    "diff_7 = df[[\"bus\", \"rail\"]].diff(7)[\"2019-03\":\"2019-05\"]\n",
    "fig, axs = plt.subplots(2, 1, sharex=True, figsize=(8, 5))\n",
    "df.plot(ax=axs[0], legend=False, marker=\".\")  # original time series\n",
    "df.shift(7).plot(ax=axs[0], grid=True, legend=False, linestyle=\":\")  # lagged\n",
    "diff_7.plot(ax=axs[1], grid=True, marker=\".\")  # 7-day difference time series\n",
    "axs[0].set_ylim([170_000, 900_000])  # extra code – beautifies the plot\n",
    "save_fig(\"differencing_plot\")  # extra code – saves the figure for the book\n",
    "plt.show()"
   ]
  },
  {
   "cell_type": "code",
   "execution_count": null,
   "id": "9693f64c-df87-4686-8834-2f50da8307b0",
   "metadata": {},
   "outputs": [],
   "source": [
    "targets = df[[\"bus\", \"rail\"]][\"2019-03\":\"2019-05\"]\n",
    "(diff_7 / targets).abs().mean()"
   ]
  },
  {
   "cell_type": "code",
   "execution_count": null,
   "id": "bbce7529-d3be-42a8-85fd-b9c4a7d082f5",
   "metadata": {},
   "outputs": [],
   "source": [
    "period = slice(\"2001\", \"2019\")\n",
    "df_monthly = df.select_dtypes(include=['number']).resample('M').mean()  # monthly mean only for numeric columns\n",
    "rolling_average_12_months = df_monthly[period].rolling(window=12).mean()\n",
    "\n",
    "fig, ax = plt.subplots(figsize=(8, 4))\n",
    "df_monthly[period].plot(ax=ax, marker=\".\")\n",
    "rolling_average_12_months.plot(ax=ax, grid=True, legend=False)\n",
    "save_fig(\"long_term_ridership_plot\")\n",
    "plt.show()\n"
   ]
  },
  {
   "cell_type": "code",
   "execution_count": null,
   "id": "a6d44517-9330-4444-bd8c-b793163ce0e0",
   "metadata": {},
   "outputs": [],
   "source": [
    "df_monthly.diff(12)[period].plot(grid=True, marker=\".\", figsize=(8, 3))\n",
    "save_fig(\"yearly_diff_plot\")  # extra code – saves the figure for the book\n",
    "plt.show()"
   ]
  },
  {
   "cell_type": "markdown",
   "id": "d317b581-a73c-4f1e-a584-c6a0cbe79039",
   "metadata": {},
   "source": [
    "### THE ARMA MODEL FAMILY (AUTOREGRESSIVE MOVING AVERAGE)\n",
    "\n",
    "$$\n",
    "\\hat{y}(t) = c + \\sum_{i=1}^{p} \\phi_i y(t - i) + \\sum_{j=1}^{q} \\theta_j \\epsilon(t - j)\n",
    "$$\n",
    "\n",
    "where:\n",
    "\n",
    "- $ \\hat{y}(t) $ is the forecasted value at time $ t $,\n",
    "- $ c $ is a constant term,\n",
    "- $ \\phi_i $ are the parameters for the autoregressive (AR) part (for $ i = 1, 2, \\ldots, p $),\n",
    "- $ \\theta_j $ are the parameters for the moving average (MA) part (for $ j = 1, 2, \\ldots, q $),\n",
    "- $ y(t - i) $ are the past values of the series,\n",
    "- $ \\epsilon(t - j) $ are the past forecast errors (white noise),\n",
    "- $ p $ is the order of the autoregressive part,\n",
    "- $ q $ is the order of the moving average part.\n"
   ]
  },
  {
   "cell_type": "code",
   "execution_count": null,
   "id": "626d4067-1cca-4e1d-879d-52ff1f25b813",
   "metadata": {},
   "outputs": [],
   "source": [
    "# !pip install statsmodels\n"
   ]
  },
  {
   "cell_type": "code",
   "execution_count": null,
   "id": "c380e64d-15bc-4664-a5a3-3a08d55781e8",
   "metadata": {},
   "outputs": [],
   "source": [
    "from statsmodels.tsa.arima.model import ARIMA\n",
    "\n",
    "origin, today = \"2019-01-01\", \"2019-05-31\"\n",
    "rail_series = df.loc[origin:today][\"rail\"].asfreq(\"D\")\n",
    "model = ARIMA(rail_series,\n",
    "              order=(1, 0, 0),\n",
    "              seasonal_order=(0, 1, 1, 7))\n",
    "model = model.fit()\n",
    "y_pred = model.forecast()  # returns 427,758.6"
   ]
  },
  {
   "cell_type": "code",
   "execution_count": null,
   "id": "499f321f-5022-4d94-b6a9-322d24e1bc72",
   "metadata": {},
   "outputs": [],
   "source": [
    "origin, start_date, end_date = \"2019-01-01\", \"2019-03-01\", \"2019-05-31\"\n",
    "time_period = pd.date_range(start_date, end_date)\n",
    "rail_series = df.loc[origin:end_date][\"rail\"].asfreq(\"D\")\n",
    "y_preds = []\n",
    "for today in time_period.shift(-1):\n",
    "    model = ARIMA(rail_series[origin:today],  # train on data up to \"today\"\n",
    "                  order=(1, 0, 0),\n",
    "                  seasonal_order=(0, 1, 1, 7))\n",
    "    model = model.fit()  # note that we retrain the model every day!\n",
    "    y_pred = model.forecast()[0]\n",
    "    y_preds.append(y_pred)\n",
    "\n",
    "y_preds = pd.Series(y_preds, index=time_period)\n",
    "mae = (y_preds - rail_series[time_period]).abs().mean()  # returns 32,040.7"
   ]
  },
  {
   "cell_type": "code",
   "execution_count": null,
   "id": "972e4be8-7271-4c10-8ebf-0a27d7bfaa5c",
   "metadata": {},
   "outputs": [],
   "source": [
    "mae"
   ]
  },
  {
   "cell_type": "markdown",
   "id": "eadf7392-76aa-4ac5-925b-4ab8bd2bc994",
   "metadata": {},
   "source": [
    "#### PREPARING DATA FOR ML MODELS"
   ]
  },
  {
   "cell_type": "code",
   "execution_count": null,
   "id": "af1a3d22-6dc1-40f2-968a-f2823556340a",
   "metadata": {},
   "outputs": [],
   "source": [
    "import tensorflow as tf\n",
    "\n",
    "my_series = [0, 1, 2, 3, 4, 5]\n",
    "my_dataset = tf.keras.utils.timeseries_dataset_from_array(\n",
    "    my_series,\n",
    "    targets=my_series[3:],  # the targets are 3 steps into the future\n",
    "    sequence_length=3,\n",
    "    batch_size=2\n",
    ")\n",
    "list(my_dataset)"
   ]
  },
  {
   "cell_type": "code",
   "execution_count": null,
   "id": "5be4b42b-e724-444c-a32c-20a87a172bf2",
   "metadata": {},
   "outputs": [],
   "source": [
    "for window_dataset in tf.data.Dataset.range(6).window(4, shift=1):\n",
    "    for element in window_dataset:\n",
    "        print(f\"{element}\", end=\" \")\n",
    "    print()"
   ]
  },
  {
   "cell_type": "code",
   "execution_count": null,
   "id": "357bc9f7-3958-438a-88ec-29c67b49263f",
   "metadata": {},
   "outputs": [],
   "source": [
    "def to_windows(dataset, length):\n",
    "    dataset = dataset.window(length, shift=1, drop_remainder=True)\n",
    "    return dataset.flat_map(lambda window_ds: window_ds.batch(length))"
   ]
  },
  {
   "cell_type": "code",
   "execution_count": null,
   "id": "3f02982a-81d9-4886-8a45-19a1ef3517bc",
   "metadata": {},
   "outputs": [],
   "source": [
    "dataset = to_windows(tf.data.Dataset.range(6), 4)\n",
    "dataset = dataset.map(lambda window: (window[:-1], window[-1]))\n",
    "list(dataset.batch(2))"
   ]
  },
  {
   "cell_type": "code",
   "execution_count": null,
   "id": "5c0e74a6-5242-4a38-9eed-a3fe193fd199",
   "metadata": {},
   "outputs": [],
   "source": [
    "# SCALING OF DATA\n",
    "rail_train = df[\"rail\"][\"2016-01\":\"2018-12\"] / 1e6\n",
    "rail_valid = df[\"rail\"][\"2019-01\":\"2019-05\"] / 1e6\n",
    "rail_test = df[\"rail\"][\"2019-06\":] / 1e6"
   ]
  },
  {
   "cell_type": "code",
   "execution_count": null,
   "id": "823a0959-7ef6-43f7-a801-fe8f881c0ac6",
   "metadata": {},
   "outputs": [],
   "source": [
    "seq_length = 56\n",
    "tf.random.set_seed(42)  # extra code – ensures reproducibility\n",
    "train_ds = tf.keras.utils.timeseries_dataset_from_array(\n",
    "    rail_train.to_numpy(),\n",
    "    targets=rail_train[seq_length:],\n",
    "    sequence_length=seq_length,\n",
    "    batch_size=32,\n",
    "    shuffle=True,\n",
    "    seed=42\n",
    ")\n",
    "valid_ds = tf.keras.utils.timeseries_dataset_from_array(\n",
    "    rail_valid.to_numpy(),\n",
    "    targets=rail_valid[seq_length:],\n",
    "    sequence_length=seq_length,\n",
    "    batch_size=32\n",
    ")"
   ]
  },
  {
   "cell_type": "markdown",
   "id": "c94fabd4-c941-4f95-a437-3bb3124fe9db",
   "metadata": {},
   "source": [
    "#### FORECASTING USING A LINEAR MODEL\n",
    "\n"
   ]
  },
  {
   "cell_type": "code",
   "execution_count": null,
   "id": "fd70489e-9434-4adf-b006-6505c0579853",
   "metadata": {},
   "outputs": [],
   "source": [
    "tf.random.set_seed(42)\n",
    "model = tf.keras.Sequential([\n",
    "    tf.keras.layers.Dense(1, input_shape=[seq_length])\n",
    "])\n",
    "early_stopping_cb = tf.keras.callbacks.EarlyStopping(\n",
    "    monitor=\"val_mae\", patience=50, restore_best_weights=True)\n",
    "opt = tf.keras.optimizers.SGD(learning_rate=0.02, momentum=0.9)\n",
    "model.compile(loss=tf.keras.losses.Huber(), optimizer=opt, metrics=[\"mae\"])\n",
    "history = model.fit(train_ds, validation_data=valid_ds, epochs=500,\n",
    "                    callbacks=[early_stopping_cb])"
   ]
  },
  {
   "cell_type": "code",
   "execution_count": null,
   "id": "d02538ac-2974-4159-9145-ec5376705c3f",
   "metadata": {},
   "outputs": [],
   "source": [
    "# extra code – evaluates the model\n",
    "valid_loss, valid_mae = model.evaluate(valid_ds)\n",
    "valid_mae * 1e6"
   ]
  },
  {
   "cell_type": "markdown",
   "id": "bbfd25f5-2119-4e90-905d-1da2fe5cdb58",
   "metadata": {},
   "source": [
    "#### FORECASTING USING SIMPLE RNN"
   ]
  },
  {
   "cell_type": "code",
   "execution_count": null,
   "id": "df0d606c-1a39-418d-ac69-4251c04d56bd",
   "metadata": {},
   "outputs": [],
   "source": [
    "tf.random.set_seed(42)  # extra code – ensures reproducibility\n",
    "model = tf.keras.Sequential([\n",
    "    tf.keras.layers.SimpleRNN(1, input_shape=[None, 1])\n",
    "])"
   ]
  },
  {
   "cell_type": "code",
   "execution_count": null,
   "id": "feedbd0b-d7e2-4cf1-b433-9fcc7d12103f",
   "metadata": {},
   "outputs": [],
   "source": [
    "# extra code – defines a utility function we'll reuse several time\n",
    "\n",
    "def fit_and_evaluate(model, train_set, valid_set, learning_rate, epochs=500):\n",
    "    early_stopping_cb = tf.keras.callbacks.EarlyStopping(\n",
    "        monitor=\"val_mae\", patience=50, restore_best_weights=True)\n",
    "    opt = tf.keras.optimizers.SGD(learning_rate=learning_rate, momentum=0.9)\n",
    "    model.compile(loss=tf.keras.losses.Huber(), optimizer=opt, metrics=[\"mae\"])\n",
    "    history = model.fit(train_set, validation_data=valid_set, epochs=epochs,\n",
    "                        callbacks=[early_stopping_cb])\n",
    "    valid_loss, valid_mae = model.evaluate(valid_set)\n",
    "    return valid_mae * 1e6"
   ]
  },
  {
   "cell_type": "code",
   "execution_count": null,
   "id": "82a17e89-40f3-4679-a4b9-d1e1ee4227be",
   "metadata": {},
   "outputs": [],
   "source": [
    "fit_and_evaluate(model, train_ds, valid_ds, learning_rate=0.02)"
   ]
  },
  {
   "cell_type": "code",
   "execution_count": null,
   "id": "f11d32b9-8959-4402-b90a-a07784bc7bce",
   "metadata": {},
   "outputs": [],
   "source": [
    "univar_model = tf.keras.Sequential([\n",
    "    tf.keras.layers.SimpleRNN(32, input_shape=[None,1]),\n",
    "    tf.keras.layers.Dense(1)\n",
    "])"
   ]
  },
  {
   "cell_type": "markdown",
   "id": "9b92f67b-8c52-432c-9079-732773279eea",
   "metadata": {},
   "source": [
    "#### DEEP RNNs"
   ]
  },
  {
   "cell_type": "code",
   "execution_count": null,
   "id": "db60298f-a29d-4349-84e3-4d045e105fd6",
   "metadata": {},
   "outputs": [],
   "source": [
    "tf.random.set_seed(42)  # extra code – ensures reproducibility\n",
    "deep_model = tf.keras.Sequential([\n",
    "    tf.keras.layers.SimpleRNN(32, return_sequences=True, input_shape=[None, 1]),\n",
    "    tf.keras.layers.SimpleRNN(32, return_sequences=True),\n",
    "    tf.keras.layers.SimpleRNN(32),\n",
    "    tf.keras.layers.Dense(1)\n",
    "])"
   ]
  },
  {
   "cell_type": "code",
   "execution_count": null,
   "id": "1417a1ab-f84c-4256-85a9-343954da9605",
   "metadata": {},
   "outputs": [],
   "source": [
    "fit_and_evaluate(deep_model, train_ds, valid_ds, learning_rate=0.01)"
   ]
  },
  {
   "cell_type": "markdown",
   "id": "a0fd20c6-f5fa-4b58-a066-48589205cb7a",
   "metadata": {},
   "source": [
    "#### FORECASTING MULTIVARIATE TIME SERIES"
   ]
  },
  {
   "cell_type": "code",
   "execution_count": null,
   "id": "6c76ade4-224f-4c38-a1a1-896a91e149b9",
   "metadata": {},
   "outputs": [],
   "source": [
    "df_mulvar = df[[\"bus\", \"rail\"]] / 1e6  # use both bus & rail series as input\n",
    "df_mulvar[\"next_day_type\"] = df[\"day_type\"].shift(-1)  # we know tomorrow's type\n",
    "df_mulvar = pd.get_dummies(df_mulvar)  # one-hot encode the day type"
   ]
  },
  {
   "cell_type": "code",
   "execution_count": null,
   "id": "28257860-ee02-48bc-a6b4-5a0370449be8",
   "metadata": {},
   "outputs": [],
   "source": [
    "mulvar_train = df_mulvar[\"2016-01\":\"2018-12\"]\n",
    "mulvar_valid = df_mulvar[\"2019-01\":\"2019-05\"]\n",
    "mulvar_test = df_mulvar[\"2019-06\":]"
   ]
  },
  {
   "cell_type": "code",
   "execution_count": null,
   "id": "3f5dd4db-9ca0-4921-bd83-9d0ac8cb6e88",
   "metadata": {},
   "outputs": [],
   "source": [
    "import numpy as np\n",
    "mulvar_train = mulvar_train.astype(np.float32)\n",
    "mulvar_valid = mulvar_valid.astype(np.float32)\n"
   ]
  },
  {
   "cell_type": "code",
   "execution_count": null,
   "id": "0646f014-347c-44fc-9e6b-621e861fff99",
   "metadata": {},
   "outputs": [],
   "source": [
    "tf.random.set_seed(42)  # extra code – ensures reproducibility\n",
    "\n",
    "train_mulvar_ds = tf.keras.utils.timeseries_dataset_from_array(\n",
    "    mulvar_train.to_numpy(),  # use all 5 columns as input\n",
    "    targets=mulvar_train[\"rail\"][seq_length:],  # forecast only the rail series\n",
    "    sequence_length=seq_length,\n",
    "    batch_size=32,\n",
    "    shuffle=True,\n",
    "    seed=42\n",
    ")\n",
    "valid_mulvar_ds = tf.keras.utils.timeseries_dataset_from_array(\n",
    "    mulvar_valid.to_numpy(),\n",
    "    targets=mulvar_valid[\"rail\"][seq_length:],\n",
    "    sequence_length=seq_length,\n",
    "    batch_size=32\n",
    ")"
   ]
  },
  {
   "cell_type": "code",
   "execution_count": null,
   "id": "dcd305be-6652-4144-8715-acf68e73066a",
   "metadata": {},
   "outputs": [],
   "source": [
    "tf.random.set_seed(42)  # extra code – ensures reproducibility\n",
    "mulvar_model = tf.keras.Sequential([\n",
    "    tf.keras.layers.SimpleRNN(32, input_shape=[None, 5]),\n",
    "    tf.keras.layers.Dense(1)\n",
    "])"
   ]
  },
  {
   "cell_type": "code",
   "execution_count": null,
   "id": "f755c4cd-0826-427c-a02f-10675ce41f0a",
   "metadata": {},
   "outputs": [],
   "source": [
    "# extra code – compiles, fits, and evaluates the model, like earlier\n",
    "fit_and_evaluate(mulvar_model, train_mulvar_ds, valid_mulvar_ds,\n",
    "                 learning_rate=0.05)"
   ]
  },
  {
   "cell_type": "code",
   "execution_count": null,
   "id": "263e46f9-8823-447b-8cca-9f0bb4ae1e77",
   "metadata": {},
   "outputs": [],
   "source": [
    "tf.keras.backend.clear_session()"
   ]
  },
  {
   "cell_type": "code",
   "execution_count": null,
   "id": "2496550c-6cfc-4916-95ca-538e7877e8db",
   "metadata": {},
   "outputs": [],
   "source": [
    "# extra code – build and train a multitask RNN that forecasts both bus and rail\n",
    "\n",
    "tf.random.set_seed(42)\n",
    "\n",
    "seq_length = 56\n",
    "train_multask_ds = tf.keras.utils.timeseries_dataset_from_array(\n",
    "    mulvar_train.to_numpy(),\n",
    "    targets=mulvar_train[[\"bus\", \"rail\"]][seq_length:],  # 2 targets per day\n",
    "    sequence_length=seq_length,\n",
    "    batch_size=32,\n",
    "    shuffle=True,\n",
    "    seed=42\n",
    ")\n",
    "valid_multask_ds = tf.keras.utils.timeseries_dataset_from_array(\n",
    "    mulvar_valid.to_numpy(),\n",
    "    targets=mulvar_valid[[\"bus\", \"rail\"]][seq_length:],\n",
    "    sequence_length=seq_length,\n",
    "    batch_size=32\n",
    ")\n",
    "\n",
    "tf.random.set_seed(42)\n",
    "multask_model = tf.keras.Sequential([\n",
    "    tf.keras.layers.SimpleRNN(32, input_shape=[None, 5]),\n",
    "    tf.keras.layers.Dense(2)\n",
    "])\n",
    "\n",
    "fit_and_evaluate(multask_model, train_multask_ds, valid_multask_ds,\n",
    "                 learning_rate=0.02)"
   ]
  },
  {
   "cell_type": "code",
   "execution_count": null,
   "id": "b098e2d7-d211-4c32-9c84-f3631269dd4f",
   "metadata": {},
   "outputs": [],
   "source": [
    "tf.keras.backend.clear_session()"
   ]
  },
  {
   "cell_type": "code",
   "execution_count": null,
   "id": "7796dcc1-8d2c-47c2-baa2-2bc82ac54161",
   "metadata": {},
   "outputs": [],
   "source": [
    "# extra code – evaluates the naive forecasts for bus\n",
    "bus_naive = mulvar_valid[\"bus\"].shift(7)[seq_length:]\n",
    "bus_target = mulvar_valid[\"bus\"][seq_length:]\n",
    "(bus_target - bus_naive).abs().mean() * 1e6"
   ]
  },
  {
   "cell_type": "markdown",
   "id": "75461a0a-cf02-4821-a6e9-efeba4cb3265",
   "metadata": {},
   "source": [
    "#### FORECASTING SEVERAL TIME STEPS AHEAD"
   ]
  },
  {
   "cell_type": "code",
   "execution_count": null,
   "id": "b2650821-91f5-402e-9243-47aee1415c70",
   "metadata": {},
   "outputs": [],
   "source": [
    "import numpy as np\n",
    "\n",
    "X = rail_valid.to_numpy()[np.newaxis, :seq_length, np.newaxis]\n",
    "for step_ahead in range(14):\n",
    "    y_pred_one = univar_model.predict(X)\n",
    "    X = np.concatenate([X, y_pred_one.reshape(1, 1, 1)], axis=1)"
   ]
  },
  {
   "cell_type": "code",
   "execution_count": null,
   "id": "4b9b95ae-48fc-4b07-bd70-16441812b6cc",
   "metadata": {},
   "outputs": [],
   "source": [
    "tf.random.set_seed(42)  # extra code – ensures reproducibility\n",
    "\n",
    "def split_inputs_and_targets(mulvar_series, ahead=14, target_col=1):\n",
    "    return mulvar_series[:, :-ahead], mulvar_series[:, -ahead:, target_col]\n",
    "\n",
    "ahead_train_ds = tf.keras.utils.timeseries_dataset_from_array(\n",
    "    mulvar_train.to_numpy(),\n",
    "    targets=None,\n",
    "    sequence_length=seq_length + 14,\n",
    "    batch_size=32,\n",
    "    shuffle=True,\n",
    "    seed=42\n",
    ").map(split_inputs_and_targets)\n",
    "ahead_valid_ds = tf.keras.utils.timeseries_dataset_from_array(\n",
    "    mulvar_valid.to_numpy(),\n",
    "    targets=None,\n",
    "    sequence_length=seq_length + 14,\n",
    "    batch_size=32\n",
    ").map(split_inputs_and_targets)"
   ]
  },
  {
   "cell_type": "code",
   "execution_count": null,
   "id": "9cc4f893-0ec9-41ff-91cd-396c91ba3bfb",
   "metadata": {},
   "outputs": [],
   "source": [
    "tf.random.set_seed(42)\n",
    "\n",
    "ahead_model = tf.keras.Sequential([\n",
    "    tf.keras.layers.SimpleRNN(32, input_shape=[None, 5]),\n",
    "    tf.keras.layers.Dense(14)\n",
    "])"
   ]
  },
  {
   "cell_type": "code",
   "execution_count": null,
   "id": "e06b6e02-3481-4a75-9733-86274f620a50",
   "metadata": {},
   "outputs": [],
   "source": [
    "# extra code – compiles, fits, and evaluates the model, like earlier\n",
    "fit_and_evaluate(ahead_model, ahead_train_ds, ahead_valid_ds,\n",
    "                 learning_rate=0.02)"
   ]
  },
  {
   "cell_type": "code",
   "execution_count": null,
   "id": "94273eef-036f-4f0f-94fb-3838eadcda85",
   "metadata": {},
   "outputs": [],
   "source": [
    "X = mulvar_valid.to_numpy()[np.newaxis, :seq_length]  # shape [1, 56, 5]\n",
    "Y_pred = ahead_model.predict(X)  # shape [1, 14]"
   ]
  },
  {
   "cell_type": "code",
   "execution_count": null,
   "id": "1b3d2f46-0125-447c-b45b-130d62e5f1cf",
   "metadata": {},
   "outputs": [],
   "source": [
    "my_series = tf.data.Dataset.range(7)\n",
    "dataset = to_windows(to_windows(my_series, 3), 4)\n",
    "list(dataset)"
   ]
  },
  {
   "cell_type": "code",
   "execution_count": null,
   "id": "5cb55ee5-e0cd-409b-b865-1a02975f7f3e",
   "metadata": {},
   "outputs": [],
   "source": [
    "dataset = dataset.map(lambda S: (S[:, 0], S[:, 1:]))\n",
    "list(dataset)"
   ]
  },
  {
   "cell_type": "markdown",
   "id": "715b37e5-8333-470e-9141-6861734c73a0",
   "metadata": {},
   "source": [
    "#### FORECASTING USING A SEQ-2-SEQ MODEL"
   ]
  },
  {
   "cell_type": "code",
   "execution_count": null,
   "id": "ec3aa8a5-ba69-4e6b-afeb-12cdc8c186fe",
   "metadata": {},
   "outputs": [],
   "source": [
    "def to_seq2seq_dataset(series, seq_length=56, ahead=14, target_col=1,\n",
    "                       batch_size=32, shuffle=False, seed=None):\n",
    "    ds = to_windows(tf.data.Dataset.from_tensor_slices(series), ahead + 1)\n",
    "    ds = to_windows(ds, seq_length).map(lambda S: (S[:, 0], S[:, 1:, 1]))\n",
    "    if shuffle:\n",
    "        ds = ds.shuffle(8 * batch_size, seed=seed)\n",
    "    return ds.batch(batch_size)"
   ]
  },
  {
   "cell_type": "code",
   "execution_count": null,
   "id": "a27ad424-f33a-4b49-9d87-5ef9644a401d",
   "metadata": {},
   "outputs": [],
   "source": [
    "seq2seq_train = to_seq2seq_dataset(mulvar_train, shuffle=True, seed=42)\n",
    "seq2seq_valid = to_seq2seq_dataset(mulvar_valid)"
   ]
  },
  {
   "cell_type": "code",
   "execution_count": null,
   "id": "f2b50ba0-51b7-4a0d-86ba-48ef8bab5eab",
   "metadata": {},
   "outputs": [],
   "source": [
    "tf.random.set_seed(42)  # extra code – ensures reproducibility\n",
    "seq2seq_model = tf.keras.Sequential([\n",
    "    tf.keras.layers.SimpleRNN(32, return_sequences=True, input_shape=[None, 5]),\n",
    "    tf.keras.layers.Dense(14)\n",
    "    # equivalent: tf.keras.layers.TimeDistributed(tf.keras.layers.Dense(14))\n",
    "    # also equivalent: tf.keras.layers.Conv1D(14, kernel_size=1)\n",
    "])"
   ]
  },
  {
   "cell_type": "code",
   "execution_count": null,
   "id": "85dccee6-4ed3-4233-9418-19220e04805a",
   "metadata": {},
   "outputs": [],
   "source": [
    "tf.keras.backend.clear_session()"
   ]
  },
  {
   "cell_type": "code",
   "execution_count": null,
   "id": "39bdf26b-79bc-4e25-b9c0-9d802846df69",
   "metadata": {},
   "outputs": [],
   "source": [
    "fit_and_evaluate(seq2seq_model, seq2seq_train, seq2seq_valid,\n",
    "                 learning_rate=0.1)"
   ]
  },
  {
   "cell_type": "code",
   "execution_count": null,
   "id": "fd02b888-ee56-4284-af8d-e6718f7fa596",
   "metadata": {},
   "outputs": [],
   "source": [
    "X = mulvar_valid.to_numpy()[np.newaxis, :seq_length]\n",
    "y_pred_14 = seq2seq_model.predict(X)[0, -1]  # only the last time step's output"
   ]
  },
  {
   "cell_type": "code",
   "execution_count": null,
   "id": "f7d4fd59-e4c4-4889-aaef-9b7cf61409d3",
   "metadata": {},
   "outputs": [],
   "source": [
    "Y_pred_valid = seq2seq_model.predict(seq2seq_valid)\n",
    "for ahead in range(14):\n",
    "    preds = pd.Series(Y_pred_valid[:-1, -1, ahead],\n",
    "                      index=mulvar_valid.index[56 + ahead : -14 + ahead])\n",
    "    mae = (preds - mulvar_valid[\"rail\"]).abs().mean() * 1e6\n",
    "    print(f\"MAE for +{ahead + 1}: {mae:,.0f}\")"
   ]
  },
  {
   "cell_type": "code",
   "execution_count": null,
   "id": "c2c70199-84c3-41d3-98c4-cac4a1247684",
   "metadata": {},
   "outputs": [],
   "source": []
  }
 ],
 "metadata": {
  "kernelspec": {
   "display_name": "Python 3 (ipykernel)",
   "language": "python",
   "name": "python3"
  },
  "language_info": {
   "codemirror_mode": {
    "name": "ipython",
    "version": 3
   },
   "file_extension": ".py",
   "mimetype": "text/x-python",
   "name": "python",
   "nbconvert_exporter": "python",
   "pygments_lexer": "ipython3",
   "version": "3.10.15"
  }
 },
 "nbformat": 4,
 "nbformat_minor": 5
}
