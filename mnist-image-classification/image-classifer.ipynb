{
 "cells": [
  {
   "cell_type": "code",
   "execution_count": null,
   "id": "24336731-09e6-4533-8211-09a954014fb9",
   "metadata": {},
   "outputs": [],
   "source": [
    "# IMAGE CLASSIFIER USING TENSORFLOW"
   ]
  },
  {
   "cell_type": "code",
   "execution_count": null,
   "id": "410e2ef1-c281-4029-8b8b-23c3d31185a1",
   "metadata": {},
   "outputs": [],
   "source": [
    "# LOADING THE DATASET\n",
    "import tensorflow as tf;"
   ]
  },
  {
   "cell_type": "code",
   "execution_count": null,
   "id": "39d7b46d-9073-46f1-9986-7b31ed0c7cfe",
   "metadata": {},
   "outputs": [],
   "source": [
    "f_mnist = tf.keras.datasets.fashion_mnist.load_data()"
   ]
  },
  {
   "cell_type": "code",
   "execution_count": null,
   "id": "dee27942-1ab7-4e60-83e1-a246950c8088",
   "metadata": {},
   "outputs": [],
   "source": [
    "(X_train_full, y_train_full), (X_test, y_test) = f_mnist"
   ]
  },
  {
   "cell_type": "code",
   "execution_count": null,
   "id": "0d46196d-b57e-4ef9-a33d-e06efaf0abeb",
   "metadata": {},
   "outputs": [],
   "source": [
    "X_train_full.shape"
   ]
  },
  {
   "cell_type": "code",
   "execution_count": null,
   "id": "51f4ad8b-d3fc-42d7-a1bf-9dcc3e5ff53e",
   "metadata": {},
   "outputs": [],
   "source": [
    "# SPLITTING THE DATASET\n",
    "X_train, y_train = X_train_full[:-5000], y_train_full[:-5000]\n",
    "X_valid, y_valid = X_train_full[-5000:], y_train_full[-5000:]"
   ]
  },
  {
   "cell_type": "code",
   "execution_count": null,
   "id": "7bc508ab-9db5-4929-bc56-f9ba45327585",
   "metadata": {},
   "outputs": [],
   "source": [
    "X_train.shape"
   ]
  },
  {
   "cell_type": "code",
   "execution_count": null,
   "id": "c5824b3f-2401-4c51-b3f8-9ff87a6005f3",
   "metadata": {},
   "outputs": [],
   "source": [
    "X_train.dtype"
   ]
  },
  {
   "cell_type": "code",
   "execution_count": null,
   "id": "5ab6737a-613b-4618-a416-c48ee09b1904",
   "metadata": {},
   "outputs": [],
   "source": [
    "X_train, X_valid, X_test = X_train/255.0, X_valid /255.0, X_test/255.0"
   ]
  },
  {
   "cell_type": "code",
   "execution_count": null,
   "id": "bc4c0a34-71e4-4811-9bf4-b4475f832caa",
   "metadata": {},
   "outputs": [],
   "source": [
    "# CLASS NAMES\n",
    "class_names = [\"T-shirt/top\", \"Trouser\", \"Pullover\",\"Dress\", \"Coat\", \"Sandal\", \"Shirt\",\n",
    "              \"Sneaker\", \"Bag\", \"Ankle Boot\"]"
   ]
  },
  {
   "cell_type": "code",
   "execution_count": null,
   "id": "de6d0459-7684-4cec-84a7-d625c9979956",
   "metadata": {},
   "outputs": [],
   "source": [
    "# CREATING THE MODEL USING SEQUENTIAL API"
   ]
  },
  {
   "cell_type": "code",
   "execution_count": null,
   "id": "b40d69ce-87c6-4127-ac38-ed5a4851a1c5",
   "metadata": {},
   "outputs": [],
   "source": [
    "model = tf.keras.Sequential()\n",
    "model.add(tf.keras.layers.Input(shape=[28,28]))\n",
    "model.add(tf.keras.layers.Flatten())\n",
    "model.add(tf.keras.layers.Dense(512, activation=\"relu\"))\n",
    "model.add(tf.keras.layers.Dense(256, activation=\"relu\"))\n",
    "model.add(tf.keras.layers.Dense(10, activation=\"softmax\"))"
   ]
  },
  {
   "cell_type": "code",
   "execution_count": null,
   "id": "bf1ef280-9ff2-4376-94d9-cc10a6123770",
   "metadata": {},
   "outputs": [],
   "source": [
    "model.summary()"
   ]
  },
  {
   "cell_type": "code",
   "execution_count": null,
   "id": "1ee8b41c-183c-472b-ba77-7e8465e23938",
   "metadata": {},
   "outputs": [],
   "source": [
    "model.layers"
   ]
  },
  {
   "cell_type": "code",
   "execution_count": null,
   "id": "fdd70bba-2fec-43f2-9ee4-6b1f79176671",
   "metadata": {},
   "outputs": [],
   "source": [
    "hidden1 = model.layers[1]"
   ]
  },
  {
   "cell_type": "code",
   "execution_count": null,
   "id": "b2f4dde5-c35b-4844-900e-2ccdb13daa51",
   "metadata": {},
   "outputs": [],
   "source": [
    "hidden1.name"
   ]
  },
  {
   "cell_type": "code",
   "execution_count": null,
   "id": "f1d42924-11bf-41a4-afe0-8f0d9982efe5",
   "metadata": {},
   "outputs": [],
   "source": [
    "model.get_layer('dense_3') is hidden1"
   ]
  },
  {
   "cell_type": "code",
   "execution_count": null,
   "id": "ad52f45e-7164-41c6-882b-7b2990bc401e",
   "metadata": {},
   "outputs": [],
   "source": [
    "# ACCESSING THE PARAMETERS\n",
    "weights, biases = hidden1.get_weights()"
   ]
  },
  {
   "cell_type": "code",
   "execution_count": null,
   "id": "0b0a0d73-2919-4832-8d79-db84b3a8dcf0",
   "metadata": {},
   "outputs": [],
   "source": [
    "weights"
   ]
  },
  {
   "cell_type": "code",
   "execution_count": null,
   "id": "2a134261-fad3-488e-8432-b5259d44340d",
   "metadata": {},
   "outputs": [],
   "source": [
    "# COMPILING THE MODEL\n",
    "model.compile(\n",
    "    optimizer = \"sgd\",\n",
    "    loss=\"sparse_categorical_crossentropy\",\n",
    "    metrics=['accuracy']\n",
    ")"
   ]
  },
  {
   "cell_type": "code",
   "execution_count": null,
   "id": "860cbaf6-bdac-4b84-a56c-6d6880b5a490",
   "metadata": {},
   "outputs": [],
   "source": [
    "# TRAINING THE MODEL\n",
    "\n",
    "history = model.fit(X_train, y_train, epochs=30, validation_data=(X_valid, y_valid))"
   ]
  },
  {
   "cell_type": "code",
   "execution_count": null,
   "id": "17d93f9a-1efa-4769-a770-b718c9aba0e5",
   "metadata": {},
   "outputs": [],
   "source": [
    "# VISUALISING \n",
    "\n",
    "import matplotlib.pyplot as plt\n",
    "import pandas as pd\n"
   ]
  },
  {
   "cell_type": "code",
   "execution_count": null,
   "id": "d36df9b4-839f-401d-b8e5-5ae5eeb83fb1",
   "metadata": {},
   "outputs": [],
   "source": [
    "pd.DataFrame(history.history).plot(\n",
    "    figsize=(8,5), xlim=[0, 30], ylim=[0,1], grid=True, xlabel=\"Epoch\",\n",
    "    style = [\"r--\", \"r--\", \"b-\", \"b-*\"]\n",
    ")\n",
    "plt.show()"
   ]
  },
  {
   "cell_type": "code",
   "execution_count": null,
   "id": "112b17a4-7202-4f90-a41e-fd6874e93d24",
   "metadata": {},
   "outputs": [],
   "source": [
    "model.evaluate(X_test, y_test)"
   ]
  },
  {
   "cell_type": "code",
   "execution_count": null,
   "id": "344a4c55-da0e-466c-90c0-8182a000f395",
   "metadata": {},
   "outputs": [],
   "source": [
    "#MODEL TO MAKE PREDICTIONS\n",
    "\n",
    "X_new = X_test[:5]\n",
    "y_prob = model.predict(X_new)\n",
    "y_prob.round(2)"
   ]
  },
  {
   "cell_type": "code",
   "execution_count": null,
   "id": "28e07d47-f7f3-4a1f-aa0a-3a144a197e02",
   "metadata": {},
   "outputs": [],
   "source": []
  }
 ],
 "metadata": {
  "kernelspec": {
   "display_name": "Python 3 (ipykernel)",
   "language": "python",
   "name": "python3"
  },
  "language_info": {
   "codemirror_mode": {
    "name": "ipython",
    "version": 3
   },
   "file_extension": ".py",
   "mimetype": "text/x-python",
   "name": "python",
   "nbconvert_exporter": "python",
   "pygments_lexer": "ipython3",
   "version": "3.11.9"
  }
 },
 "nbformat": 4,
 "nbformat_minor": 5
}
