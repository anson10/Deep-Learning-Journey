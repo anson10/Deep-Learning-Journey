{
 "cells": [
  {
   "cell_type": "code",
   "execution_count": 1,
   "metadata": {},
   "outputs": [],
   "source": [
    "import numpy as np \n",
    "import pandas as pd \n",
    "import matplotlib.pyplot as plt \n",
    "import seaborn as sns "
   ]
  },
  {
   "cell_type": "code",
   "execution_count": 2,
   "metadata": {},
   "outputs": [],
   "source": [
    "df = pd.read_csv('cancer_tumor_data_features.csv')"
   ]
  },
  {
   "cell_type": "code",
   "execution_count": 3,
   "metadata": {},
   "outputs": [
    {
     "data": {
      "text/html": [
       "<div>\n",
       "<style scoped>\n",
       "    .dataframe tbody tr th:only-of-type {\n",
       "        vertical-align: middle;\n",
       "    }\n",
       "\n",
       "    .dataframe tbody tr th {\n",
       "        vertical-align: top;\n",
       "    }\n",
       "\n",
       "    .dataframe thead th {\n",
       "        text-align: right;\n",
       "    }\n",
       "</style>\n",
       "<table border=\"1\" class=\"dataframe\">\n",
       "  <thead>\n",
       "    <tr style=\"text-align: right;\">\n",
       "      <th></th>\n",
       "      <th>mean radius</th>\n",
       "      <th>mean texture</th>\n",
       "      <th>mean perimeter</th>\n",
       "      <th>mean area</th>\n",
       "      <th>mean smoothness</th>\n",
       "      <th>mean compactness</th>\n",
       "      <th>mean concavity</th>\n",
       "      <th>mean concave points</th>\n",
       "      <th>mean symmetry</th>\n",
       "      <th>mean fractal dimension</th>\n",
       "      <th>...</th>\n",
       "      <th>worst radius</th>\n",
       "      <th>worst texture</th>\n",
       "      <th>worst perimeter</th>\n",
       "      <th>worst area</th>\n",
       "      <th>worst smoothness</th>\n",
       "      <th>worst compactness</th>\n",
       "      <th>worst concavity</th>\n",
       "      <th>worst concave points</th>\n",
       "      <th>worst symmetry</th>\n",
       "      <th>worst fractal dimension</th>\n",
       "    </tr>\n",
       "  </thead>\n",
       "  <tbody>\n",
       "    <tr>\n",
       "      <th>0</th>\n",
       "      <td>17.99</td>\n",
       "      <td>10.38</td>\n",
       "      <td>122.80</td>\n",
       "      <td>1001.0</td>\n",
       "      <td>0.11840</td>\n",
       "      <td>0.27760</td>\n",
       "      <td>0.3001</td>\n",
       "      <td>0.14710</td>\n",
       "      <td>0.2419</td>\n",
       "      <td>0.07871</td>\n",
       "      <td>...</td>\n",
       "      <td>25.38</td>\n",
       "      <td>17.33</td>\n",
       "      <td>184.60</td>\n",
       "      <td>2019.0</td>\n",
       "      <td>0.1622</td>\n",
       "      <td>0.6656</td>\n",
       "      <td>0.7119</td>\n",
       "      <td>0.2654</td>\n",
       "      <td>0.4601</td>\n",
       "      <td>0.11890</td>\n",
       "    </tr>\n",
       "    <tr>\n",
       "      <th>1</th>\n",
       "      <td>20.57</td>\n",
       "      <td>17.77</td>\n",
       "      <td>132.90</td>\n",
       "      <td>1326.0</td>\n",
       "      <td>0.08474</td>\n",
       "      <td>0.07864</td>\n",
       "      <td>0.0869</td>\n",
       "      <td>0.07017</td>\n",
       "      <td>0.1812</td>\n",
       "      <td>0.05667</td>\n",
       "      <td>...</td>\n",
       "      <td>24.99</td>\n",
       "      <td>23.41</td>\n",
       "      <td>158.80</td>\n",
       "      <td>1956.0</td>\n",
       "      <td>0.1238</td>\n",
       "      <td>0.1866</td>\n",
       "      <td>0.2416</td>\n",
       "      <td>0.1860</td>\n",
       "      <td>0.2750</td>\n",
       "      <td>0.08902</td>\n",
       "    </tr>\n",
       "    <tr>\n",
       "      <th>2</th>\n",
       "      <td>19.69</td>\n",
       "      <td>21.25</td>\n",
       "      <td>130.00</td>\n",
       "      <td>1203.0</td>\n",
       "      <td>0.10960</td>\n",
       "      <td>0.15990</td>\n",
       "      <td>0.1974</td>\n",
       "      <td>0.12790</td>\n",
       "      <td>0.2069</td>\n",
       "      <td>0.05999</td>\n",
       "      <td>...</td>\n",
       "      <td>23.57</td>\n",
       "      <td>25.53</td>\n",
       "      <td>152.50</td>\n",
       "      <td>1709.0</td>\n",
       "      <td>0.1444</td>\n",
       "      <td>0.4245</td>\n",
       "      <td>0.4504</td>\n",
       "      <td>0.2430</td>\n",
       "      <td>0.3613</td>\n",
       "      <td>0.08758</td>\n",
       "    </tr>\n",
       "    <tr>\n",
       "      <th>3</th>\n",
       "      <td>11.42</td>\n",
       "      <td>20.38</td>\n",
       "      <td>77.58</td>\n",
       "      <td>386.1</td>\n",
       "      <td>0.14250</td>\n",
       "      <td>0.28390</td>\n",
       "      <td>0.2414</td>\n",
       "      <td>0.10520</td>\n",
       "      <td>0.2597</td>\n",
       "      <td>0.09744</td>\n",
       "      <td>...</td>\n",
       "      <td>14.91</td>\n",
       "      <td>26.50</td>\n",
       "      <td>98.87</td>\n",
       "      <td>567.7</td>\n",
       "      <td>0.2098</td>\n",
       "      <td>0.8663</td>\n",
       "      <td>0.6869</td>\n",
       "      <td>0.2575</td>\n",
       "      <td>0.6638</td>\n",
       "      <td>0.17300</td>\n",
       "    </tr>\n",
       "    <tr>\n",
       "      <th>4</th>\n",
       "      <td>20.29</td>\n",
       "      <td>14.34</td>\n",
       "      <td>135.10</td>\n",
       "      <td>1297.0</td>\n",
       "      <td>0.10030</td>\n",
       "      <td>0.13280</td>\n",
       "      <td>0.1980</td>\n",
       "      <td>0.10430</td>\n",
       "      <td>0.1809</td>\n",
       "      <td>0.05883</td>\n",
       "      <td>...</td>\n",
       "      <td>22.54</td>\n",
       "      <td>16.67</td>\n",
       "      <td>152.20</td>\n",
       "      <td>1575.0</td>\n",
       "      <td>0.1374</td>\n",
       "      <td>0.2050</td>\n",
       "      <td>0.4000</td>\n",
       "      <td>0.1625</td>\n",
       "      <td>0.2364</td>\n",
       "      <td>0.07678</td>\n",
       "    </tr>\n",
       "  </tbody>\n",
       "</table>\n",
       "<p>5 rows × 30 columns</p>\n",
       "</div>"
      ],
      "text/plain": [
       "   mean radius  mean texture  mean perimeter  mean area  mean smoothness  \\\n",
       "0        17.99         10.38          122.80     1001.0          0.11840   \n",
       "1        20.57         17.77          132.90     1326.0          0.08474   \n",
       "2        19.69         21.25          130.00     1203.0          0.10960   \n",
       "3        11.42         20.38           77.58      386.1          0.14250   \n",
       "4        20.29         14.34          135.10     1297.0          0.10030   \n",
       "\n",
       "   mean compactness  mean concavity  mean concave points  mean symmetry  \\\n",
       "0           0.27760          0.3001              0.14710         0.2419   \n",
       "1           0.07864          0.0869              0.07017         0.1812   \n",
       "2           0.15990          0.1974              0.12790         0.2069   \n",
       "3           0.28390          0.2414              0.10520         0.2597   \n",
       "4           0.13280          0.1980              0.10430         0.1809   \n",
       "\n",
       "   mean fractal dimension  ...  worst radius  worst texture  worst perimeter  \\\n",
       "0                 0.07871  ...         25.38          17.33           184.60   \n",
       "1                 0.05667  ...         24.99          23.41           158.80   \n",
       "2                 0.05999  ...         23.57          25.53           152.50   \n",
       "3                 0.09744  ...         14.91          26.50            98.87   \n",
       "4                 0.05883  ...         22.54          16.67           152.20   \n",
       "\n",
       "   worst area  worst smoothness  worst compactness  worst concavity  \\\n",
       "0      2019.0            0.1622             0.6656           0.7119   \n",
       "1      1956.0            0.1238             0.1866           0.2416   \n",
       "2      1709.0            0.1444             0.4245           0.4504   \n",
       "3       567.7            0.2098             0.8663           0.6869   \n",
       "4      1575.0            0.1374             0.2050           0.4000   \n",
       "\n",
       "   worst concave points  worst symmetry  worst fractal dimension  \n",
       "0                0.2654          0.4601                  0.11890  \n",
       "1                0.1860          0.2750                  0.08902  \n",
       "2                0.2430          0.3613                  0.08758  \n",
       "3                0.2575          0.6638                  0.17300  \n",
       "4                0.1625          0.2364                  0.07678  \n",
       "\n",
       "[5 rows x 30 columns]"
      ]
     },
     "execution_count": 3,
     "metadata": {},
     "output_type": "execute_result"
    }
   ],
   "source": [
    "df.head()"
   ]
  },
  {
   "cell_type": "code",
   "execution_count": 4,
   "metadata": {},
   "outputs": [],
   "source": [
    "from sklearn.preprocessing import StandardScaler"
   ]
  },
  {
   "cell_type": "code",
   "execution_count": 5,
   "metadata": {},
   "outputs": [],
   "source": [
    "scaler = StandardScaler()"
   ]
  },
  {
   "cell_type": "code",
   "execution_count": 6,
   "metadata": {},
   "outputs": [],
   "source": [
    "scaled_X = scaler.fit_transform(df)"
   ]
  },
  {
   "cell_type": "code",
   "execution_count": 10,
   "metadata": {},
   "outputs": [
    {
     "data": {
      "text/plain": [
       "array([[ 1.09706398, -2.07333501,  1.26993369, ...,  2.29607613,\n",
       "         2.75062224,  1.93701461],\n",
       "       [ 1.82982061, -0.35363241,  1.68595471, ...,  1.0870843 ,\n",
       "        -0.24388967,  0.28118999],\n",
       "       [ 1.57988811,  0.45618695,  1.56650313, ...,  1.95500035,\n",
       "         1.152255  ,  0.20139121],\n",
       "       ...,\n",
       "       [ 0.70228425,  2.0455738 ,  0.67267578, ...,  0.41406869,\n",
       "        -1.10454895, -0.31840916],\n",
       "       [ 1.83834103,  2.33645719,  1.98252415, ...,  2.28998549,\n",
       "         1.91908301,  2.21963528],\n",
       "       [-1.80840125,  1.22179204, -1.81438851, ..., -1.74506282,\n",
       "        -0.04813821, -0.75120669]])"
      ]
     },
     "execution_count": 10,
     "metadata": {},
     "output_type": "execute_result"
    }
   ],
   "source": [
    "scaled_X - scaled_X.mean(axis=0)"
   ]
  },
  {
   "cell_type": "code",
   "execution_count": 12,
   "metadata": {},
   "outputs": [
    {
     "data": {
      "text/plain": [
       "array([[ 1.00176056e+00,  3.24351929e-01,  9.99612069e-01,\n",
       "         9.89095475e-01,  1.70881506e-01,  5.07014640e-01,\n",
       "         6.77955036e-01,  8.23976636e-01,  1.48001350e-01,\n",
       "        -3.12179472e-01,  6.80285970e-01, -9.74887767e-02,\n",
       "         6.75358538e-01,  7.37159198e-01, -2.22992026e-01,\n",
       "         2.06362656e-01,  1.94545531e-01,  3.76831225e-01,\n",
       "        -1.04504545e-01, -4.27163418e-02,  9.71245907e-01,\n",
       "         2.97530545e-01,  9.66835698e-01,  9.42739295e-01,\n",
       "         1.19826732e-01,  4.14190751e-01,  5.27839123e-01,\n",
       "         7.45524434e-01,  1.64241985e-01,  7.07832563e-03],\n",
       "       [ 3.24351929e-01,  1.00176056e+00,  3.30113223e-01,\n",
       "         3.21650988e-01, -2.34296930e-02,  2.37118951e-01,\n",
       "         3.02950254e-01,  2.93980713e-01,  7.15266864e-02,\n",
       "        -7.65717560e-02,  2.76354360e-01,  3.87037830e-01,\n",
       "         2.82169018e-01,  2.60302460e-01,  6.62542133e-03,\n",
       "         1.92312595e-01,  1.43545353e-01,  1.64139495e-01,\n",
       "         9.14323671e-03,  5.45533955e-02,  3.53193674e-01,\n",
       "         9.13650301e-01,  3.58669926e-01,  3.44150782e-01,\n",
       "         7.76398084e-02,  2.78318729e-01,  3.01555198e-01,\n",
       "         2.95835766e-01,  1.05192783e-01,  1.19415220e-01],\n",
       "       [ 9.99612069e-01,  3.30113223e-01,  1.00176056e+00,\n",
       "         9.88243612e-01,  2.07643090e-01,  5.57916732e-01,\n",
       "         7.17396452e-01,  8.52475240e-01,  1.83349443e-01,\n",
       "        -2.61937255e-01,  6.92982910e-01, -8.69138267e-02,\n",
       "         6.94355197e-01,  7.46294283e-01, -2.03050882e-01,\n",
       "         2.51185131e-01,  2.28483899e-01,  4.07933847e-01,\n",
       "        -8.17730406e-02, -5.53311534e-03,  9.71183188e-01,\n",
       "         3.03571890e-01,  9.72095315e-01,  9.43207466e-01,\n",
       "         1.50814456e-01,  4.56576647e-01,  5.64872009e-01,\n",
       "         7.72598608e-01,  1.89447989e-01,  5.11083511e-02],\n",
       "       [ 9.89095475e-01,  3.21650988e-01,  9.88243612e-01,\n",
       "         1.00176056e+00,  1.77340047e-01,  4.99379326e-01,\n",
       "         6.87190545e-01,  8.24718286e-01,  1.51559440e-01,\n",
       "        -2.83608244e-01,  7.33851949e-01, -6.63969041e-02,\n",
       "         7.27907603e-01,  8.01494523e-01, -1.67070287e-01,\n",
       "         2.12956816e-01,  2.08025659e-01,  3.72975776e-01,\n",
       "        -7.26242231e-02, -1.99219755e-02,  9.64441062e-01,\n",
       "         2.87994769e-01,  9.60808165e-01,  9.60902082e-01,\n",
       "         1.23740409e-01,  3.91097651e-01,  5.13508396e-01,\n",
       "         7.23287782e-01,  1.43822678e-01,  3.74417763e-03],\n",
       "       [ 1.70881506e-01, -2.34296930e-02,  2.07643090e-01,\n",
       "         1.77340047e-01,  1.00176056e+00,  6.60283643e-01,\n",
       "         5.22902753e-01,  5.54669988e-01,  5.58756786e-01,\n",
       "         5.85821565e-01,  3.01997850e-01,  6.85268821e-02,\n",
       "         2.96613222e-01,  2.46986503e-01,  3.32960611e-01,\n",
       "         3.19504817e-01,  2.48832996e-01,  3.81345895e-01,\n",
       "         2.01127852e-01,  2.84106006e-01,  2.13495353e-01,\n",
       "         3.61353055e-02,  2.39273141e-01,  2.07082304e-01,\n",
       "         8.06742020e-01,  4.73300254e-01,  4.35691429e-01,\n",
       "         5.03939011e-01,  3.95003689e-01,  5.00195447e-01],\n",
       "       [ 5.07014640e-01,  2.37118951e-01,  5.57916732e-01,\n",
       "         4.99379326e-01,  6.60283643e-01,  1.00176056e+00,\n",
       "         8.84675460e-01,  8.32598309e-01,  6.03702036e-01,\n",
       "         5.66364031e-01,  4.98349280e-01,  4.62861772e-02,\n",
       "         5.49871647e-01,  4.56455058e-01,  1.35537471e-01,\n",
       "         7.40022356e-01,  5.71521303e-01,  6.43392594e-01,\n",
       "         2.30381479e-01,  5.08211293e-01,  5.36257855e-01,\n",
       "         2.48569687e-01,  5.91249531e-01,  5.10500995e-01,\n",
       "         5.66536837e-01,  8.67333351e-01,  8.17712354e-01,\n",
       "         8.17009092e-01,  5.11121711e-01,  6.88592503e-01],\n",
       "       [ 6.77955036e-01,  3.02950254e-01,  7.17396452e-01,\n",
       "         6.87190545e-01,  5.22902753e-01,  8.84675460e-01,\n",
       "         1.00176056e+00,  9.23013194e-01,  5.01548072e-01,\n",
       "         3.37376288e-01,  6.33037366e-01,  7.63525354e-02,\n",
       "         6.61553447e-01,  6.18513825e-01,  9.87372735e-02,\n",
       "         6.71458893e-01,  6.92487233e-01,  6.84462839e-01,\n",
       "         1.78322604e-01,  4.50091771e-01,  6.89448091e-01,\n",
       "         3.00406844e-01,  7.30849362e-01,  6.77177350e-01,\n",
       "         4.49612218e-01,  7.56297185e-01,  8.85659158e-01,\n",
       "         8.62839447e-01,  4.10185014e-01,  5.15836457e-01],\n",
       "       [ 8.23976636e-01,  2.93980713e-01,  8.52475240e-01,\n",
       "         8.24718286e-01,  5.54669988e-01,  8.32598309e-01,\n",
       "         9.23013194e-01,  1.00176056e+00,  4.63311644e-01,\n",
       "         1.67211252e-01,  6.99278795e-01,  2.15173981e-02,\n",
       "         7.11901016e-01,  6.91513854e-01,  2.77019938e-02,\n",
       "         4.91287673e-01,  4.39940250e-01,  6.16717994e-01,\n",
       "         9.55186580e-02,  2.58037239e-01,  8.31779458e-01,\n",
       "         2.93267121e-01,  8.57430035e-01,  8.11055024e-01,\n",
       "         4.53550155e-01,  6.68628771e-01,  7.53724145e-01,\n",
       "         9.11757700e-01,  3.76405667e-01,  3.69310185e-01],\n",
       "       [ 1.48001350e-01,  7.15266864e-02,  1.83349443e-01,\n",
       "         1.51559440e-01,  5.58756786e-01,  6.03702036e-01,\n",
       "         5.01548072e-01,  4.63311644e-01,  1.00176056e+00,\n",
       "         4.80766262e-01,  3.03913382e-01,  1.28278372e-01,\n",
       "         3.14445389e-01,  2.24364533e-01,  1.87650956e-01,\n",
       "         4.22401505e-01,  3.43230240e-01,  3.93990298e-01,\n",
       "         4.49927276e-01,  3.32370277e-01,  1.86054739e-01,\n",
       "         9.08102844e-02,  2.19554419e-01,  1.77505338e-01,\n",
       "         4.27426215e-01,  4.74033112e-01,  4.34484601e-01,\n",
       "         4.31054176e-01,  7.01057885e-01,  4.39185353e-01],\n",
       "       [-3.12179472e-01, -7.65717560e-02, -2.61937255e-01,\n",
       "        -2.83608244e-01,  5.85821565e-01,  5.66364031e-01,\n",
       "         3.37376288e-01,  1.67211252e-01,  4.80766262e-01,\n",
       "         1.00176056e+00,  1.11190486e-04,  1.64463005e-01,\n",
       "         3.99000547e-02, -9.03289980e-02,  4.02672109e-01,\n",
       "         5.60822319e-01,  4.47416643e-01,  3.41798745e-01,\n",
       "         3.45614805e-01,  6.89343077e-01, -2.54138135e-01,\n",
       "        -5.13594647e-02, -2.05512393e-01, -2.32262646e-01,\n",
       "         5.05831058e-01,  4.59605900e-01,  3.46843443e-01,\n",
       "         1.75634121e-01,  3.34606745e-01,  7.68647654e-01],\n",
       "       [ 6.80285970e-01,  2.76354360e-01,  6.92982910e-01,\n",
       "         7.33851949e-01,  3.01997850e-01,  4.98349280e-01,\n",
       "         6.33037366e-01,  6.99278795e-01,  3.03913382e-01,\n",
       "         1.11190486e-04,  1.00176056e+00,  2.13622773e-01,\n",
       "         9.74506342e-01,  9.53505869e-01,  1.64803858e-01,\n",
       "         3.56691450e-01,  3.32942674e-01,  5.14250220e-01,\n",
       "         2.40990897e-01,  2.28154507e-01,  7.16324113e-01,\n",
       "         1.95141512e-01,  7.20950853e-01,  7.52871625e-01,\n",
       "         1.42168410e-01,  2.87608629e-01,  3.81254678e-01,\n",
       "         5.31997297e-01,  9.47092790e-02,  4.96466850e-02],\n",
       "       [-9.74887767e-02,  3.87037830e-01, -8.69138267e-02,\n",
       "        -6.63969041e-02,  6.85268821e-02,  4.62861772e-02,\n",
       "         7.63525354e-02,  2.15173981e-02,  1.28278372e-01,\n",
       "         1.64463005e-01,  2.13622773e-01,  1.00176056e+00,\n",
       "         2.23563635e-01,  1.11763668e-01,  3.97942224e-01,\n",
       "         2.32107621e-01,  1.95341772e-01,  2.30688828e-01,\n",
       "         4.12345364e-01,  2.80215217e-01, -1.11886951e-01,\n",
       "         4.09722842e-01, -1.02421925e-01, -8.33414586e-02,\n",
       "        -7.37873381e-02, -9.26020990e-02, -6.90776223e-02,\n",
       "        -1.19848153e-01, -1.28440488e-01, -4.57349464e-02],\n",
       "       [ 6.75358538e-01,  2.82169018e-01,  6.94355197e-01,\n",
       "         7.27907603e-01,  2.96613222e-01,  5.49871647e-01,\n",
       "         6.61553447e-01,  7.11901016e-01,  3.14445389e-01,\n",
       "         3.99000547e-02,  9.74506342e-01,  2.23563635e-01,\n",
       "         1.00176056e+00,  9.39306209e-01,  1.51341309e-01,\n",
       "         4.17055330e-01,  3.63119754e-01,  5.57243422e-01,\n",
       "         2.66956259e-01,  2.44572602e-01,  6.98428059e-01,\n",
       "         2.00723620e-01,  7.22300731e-01,  7.31999440e-01,\n",
       "         1.30283361e-01,  3.42521416e-01,  4.19636314e-01,\n",
       "         5.55874162e-01,  1.10123974e-01,  8.55829815e-02],\n",
       "       [ 7.37159198e-01,  2.60302460e-01,  7.46294283e-01,\n",
       "         8.01494523e-01,  2.46986503e-01,  4.56455058e-01,\n",
       "         6.18513825e-01,  6.91513854e-01,  2.24364533e-01,\n",
       "        -9.03289980e-02,  9.53505869e-01,  1.11763668e-01,\n",
       "         9.39306209e-01,  1.00176056e+00,  7.52826451e-02,\n",
       "         2.85341536e-01,  2.71371654e-01,  4.16461487e-01,\n",
       "         1.34345087e-01,  1.27294619e-01,  7.58706592e-01,\n",
       "         1.96842594e-01,  7.62552799e-01,  8.12836496e-01,\n",
       "         1.25610187e-01,  2.83755229e-01,  3.85778129e-01,\n",
       "         5.39113790e-01,  7.42567956e-02,  1.75701742e-02],\n",
       "       [-2.22992026e-01,  6.62542133e-03, -2.03050882e-01,\n",
       "        -1.67070287e-01,  3.32960611e-01,  1.35537471e-01,\n",
       "         9.87372735e-02,  2.77019938e-02,  1.87650956e-01,\n",
       "         4.02672109e-01,  1.64803858e-01,  3.97942224e-01,\n",
       "         1.51341309e-01,  7.52826451e-02,  1.00176056e+00,\n",
       "         3.37288855e-01,  2.69157796e-01,  3.29007720e-01,\n",
       "         4.14234129e-01,  4.28126626e-01, -2.31096855e-01,\n",
       "        -7.48745546e-02, -2.17686332e-01, -1.82516245e-01,\n",
       "         3.15011078e-01, -5.56559523e-02, -5.84010247e-02,\n",
       "        -1.02186386e-01, -1.07531080e-01,  1.01658978e-01],\n",
       "       [ 2.06362656e-01,  1.92312595e-01,  2.51185131e-01,\n",
       "         2.12956816e-01,  3.19504817e-01,  7.40022356e-01,\n",
       "         6.71458893e-01,  4.91287673e-01,  4.22401505e-01,\n",
       "         5.60822319e-01,  3.56691450e-01,  2.32107621e-01,\n",
       "         4.17055330e-01,  2.85341536e-01,  3.37288855e-01,\n",
       "         1.00176056e+00,  8.02679026e-01,  7.45392672e-01,\n",
       "         3.95407752e-01,  8.04683023e-01,  2.04967390e-01,\n",
       "         1.43254348e-01,  2.60974494e-01,  1.99722335e-01,\n",
       "         2.27794574e-01,  6.79975390e-01,  6.40271956e-01,\n",
       "         4.84059046e-01,  2.78367653e-01,  5.92013208e-01],\n",
       "       [ 1.94545531e-01,  1.43545353e-01,  2.28483899e-01,\n",
       "         2.08025659e-01,  2.48832996e-01,  5.71521303e-01,\n",
       "         6.92487233e-01,  4.39940250e-01,  3.43230240e-01,\n",
       "         4.47416643e-01,  3.32942674e-01,  1.95341772e-01,\n",
       "         3.63119754e-01,  2.71371654e-01,  2.69157796e-01,\n",
       "         8.02679026e-01,  1.00176056e+00,  7.73162805e-01,\n",
       "         3.09973347e-01,  7.28652769e-01,  1.87232571e-01,\n",
       "         1.00417464e-01,  2.27079511e-01,  1.88684259e-01,\n",
       "         1.68777943e-01,  4.85711424e-01,  6.63730620e-01,\n",
       "         4.41247742e-01,  1.98136040e-01,  4.40102736e-01],\n",
       "       [ 3.76831225e-01,  1.64139495e-01,  4.07933847e-01,\n",
       "         3.72975776e-01,  3.81345895e-01,  6.43392594e-01,\n",
       "         6.84462839e-01,  6.16717994e-01,  3.93990298e-01,\n",
       "         3.41798745e-01,  5.14250220e-01,  2.30688828e-01,\n",
       "         5.57243422e-01,  4.16461487e-01,  3.29007720e-01,\n",
       "         7.45392672e-01,  7.73162805e-01,  1.00176056e+00,\n",
       "         3.13330893e-01,  6.12119921e-01,  3.58757174e-01,\n",
       "         8.68939233e-02,  3.95694673e-01,  3.42873752e-01,\n",
       "         2.15729735e-01,  4.53685716e-01,  5.50559967e-01,\n",
       "         6.03510257e-01,  1.43367633e-01,  3.11201479e-01],\n",
       "       [-1.04504545e-01,  9.14323671e-03, -8.17730406e-02,\n",
       "        -7.26242231e-02,  2.01127852e-01,  2.30381479e-01,\n",
       "         1.78322604e-01,  9.55186580e-02,  4.49927276e-01,\n",
       "         3.45614805e-01,  2.40990897e-01,  4.12345364e-01,\n",
       "         2.66956259e-01,  1.34345087e-01,  4.14234129e-01,\n",
       "         3.95407752e-01,  3.09973347e-01,  3.13330893e-01,\n",
       "         1.00176056e+00,  3.69727869e-01, -1.28346334e-01,\n",
       "        -7.76098171e-02, -1.03935708e-01, -1.10537008e-01,\n",
       "        -1.26840915e-02,  6.03609620e-02,  3.71843990e-02,\n",
       "        -3.04669411e-02,  3.90088053e-01,  7.82169401e-02],\n",
       "       [-4.27163418e-02,  5.45533955e-02, -5.53311534e-03,\n",
       "        -1.99219755e-02,  2.84106006e-01,  5.08211293e-01,\n",
       "         4.50091771e-01,  2.58037239e-01,  3.32370277e-01,\n",
       "         6.89343077e-01,  2.28154507e-01,  2.80215217e-01,\n",
       "         2.44572602e-01,  1.27294619e-01,  4.28126626e-01,\n",
       "         8.04683023e-01,  7.28652769e-01,  6.12119921e-01,\n",
       "         3.69727869e-01,  1.00176056e+00, -3.75536172e-02,\n",
       "        -3.20065392e-03, -1.00215889e-03, -2.27761757e-02,\n",
       "         1.70868612e-01,  3.90845741e-01,  3.80643631e-01,\n",
       "         2.15582894e-01,  1.11289544e-01,  5.92369136e-01],\n",
       "       [ 9.71245907e-01,  3.53193674e-01,  9.71183188e-01,\n",
       "         9.64441062e-01,  2.13495353e-01,  5.36257855e-01,\n",
       "         6.89448091e-01,  8.31779458e-01,  1.86054739e-01,\n",
       "        -2.54138135e-01,  7.16324113e-01, -1.11886951e-01,\n",
       "         6.98428059e-01,  7.58706592e-01, -2.31096855e-01,\n",
       "         2.04967390e-01,  1.87232571e-01,  3.58757174e-01,\n",
       "        -1.28346334e-01, -3.75536172e-02,  1.00176056e+00,\n",
       "         3.60554418e-01,  9.95457402e-01,  9.85746984e-01,\n",
       "         2.16955724e-01,  4.76657749e-01,  5.74985227e-01,\n",
       "         7.88810161e-01,  2.43957953e-01,  9.36565772e-02],\n",
       "       [ 2.97530545e-01,  9.13650301e-01,  3.03571890e-01,\n",
       "         2.87994769e-01,  3.61353055e-02,  2.48569687e-01,\n",
       "         3.00406844e-01,  2.93267121e-01,  9.08102844e-02,\n",
       "        -5.13594647e-02,  1.95141512e-01,  4.09722842e-01,\n",
       "         2.00723620e-01,  1.96842594e-01, -7.48745546e-02,\n",
       "         1.43254348e-01,  1.00417464e-01,  8.68939233e-02,\n",
       "        -7.76098171e-02, -3.20065392e-03,  3.60554418e-01,\n",
       "         1.00176056e+00,  3.65741024e-01,  3.46451160e-01,\n",
       "         2.25826298e-01,  3.61467607e-01,  3.69014138e-01,\n",
       "         3.60387980e-01,  2.33437721e-01,  2.19508204e-01],\n",
       "       [ 9.66835698e-01,  3.58669926e-01,  9.72095315e-01,\n",
       "         9.60808165e-01,  2.39273141e-01,  5.91249531e-01,\n",
       "         7.30849362e-01,  8.57430035e-01,  2.19554419e-01,\n",
       "        -2.05512393e-01,  7.20950853e-01, -1.02421925e-01,\n",
       "         7.22300731e-01,  7.62552799e-01, -2.17686332e-01,\n",
       "         2.60974494e-01,  2.27079511e-01,  3.95694673e-01,\n",
       "        -1.03935708e-01, -1.00215889e-03,  9.95457402e-01,\n",
       "         3.65741024e-01,  1.00176056e+00,  9.79299180e-01,\n",
       "         2.37191461e-01,  5.30339746e-01,  6.19432713e-01,\n",
       "         8.17759288e-01,  2.69967228e-01,  1.39201504e-01],\n",
       "       [ 9.42739295e-01,  3.44150782e-01,  9.43207466e-01,\n",
       "         9.60902082e-01,  2.07082304e-01,  5.10500995e-01,\n",
       "         6.77177350e-01,  8.11055024e-01,  1.77505338e-01,\n",
       "        -2.32262646e-01,  7.52871625e-01, -8.33414586e-02,\n",
       "         7.31999440e-01,  8.12836496e-01, -1.82516245e-01,\n",
       "         1.99722335e-01,  1.88684259e-01,  3.42873752e-01,\n",
       "        -1.10537008e-01, -2.27761757e-02,  9.85746984e-01,\n",
       "         3.46451160e-01,  9.79299180e-01,  1.00176056e+00,\n",
       "         2.09513547e-01,  4.39067932e-01,  5.44287093e-01,\n",
       "         7.48734680e-01,  2.09513722e-01,  7.97872577e-02],\n",
       "       [ 1.19826732e-01,  7.76398084e-02,  1.50814456e-01,\n",
       "         1.23740409e-01,  8.06742020e-01,  5.66536837e-01,\n",
       "         4.49612218e-01,  4.53550155e-01,  4.27426215e-01,\n",
       "         5.05831058e-01,  1.42168410e-01, -7.37873381e-02,\n",
       "         1.30283361e-01,  1.25610187e-01,  3.15011078e-01,\n",
       "         2.27794574e-01,  1.68777943e-01,  2.15729735e-01,\n",
       "        -1.26840915e-02,  1.70868612e-01,  2.16955724e-01,\n",
       "         2.25826298e-01,  2.37191461e-01,  2.09513547e-01,\n",
       "         1.00176056e+00,  5.69186845e-01,  5.19436186e-01,\n",
       "         5.48655147e-01,  4.94707764e-01,  6.18711558e-01],\n",
       "       [ 4.14190751e-01,  2.78318729e-01,  4.56576647e-01,\n",
       "         3.91097651e-01,  4.73300254e-01,  8.67333351e-01,\n",
       "         7.56297185e-01,  6.68628771e-01,  4.74033112e-01,\n",
       "         4.59605900e-01,  2.87608629e-01, -9.26020990e-02,\n",
       "         3.42521416e-01,  2.83755229e-01, -5.56559523e-02,\n",
       "         6.79975390e-01,  4.85711424e-01,  4.53685716e-01,\n",
       "         6.03609620e-02,  3.90845741e-01,  4.76657749e-01,\n",
       "         3.61467607e-01,  5.30339746e-01,  4.39067932e-01,\n",
       "         5.69186845e-01,  1.00176056e+00,  8.93831781e-01,\n",
       "         8.02490717e-01,  6.15522263e-01,  8.11881713e-01],\n",
       "       [ 5.27839123e-01,  3.01555198e-01,  5.64872009e-01,\n",
       "         5.13508396e-01,  4.35691429e-01,  8.17712354e-01,\n",
       "         8.85659158e-01,  7.53724145e-01,  4.34484601e-01,\n",
       "         3.46843443e-01,  3.81254678e-01, -6.90776223e-02,\n",
       "         4.19636314e-01,  3.85778129e-01, -5.84010247e-02,\n",
       "         6.40271956e-01,  6.63730620e-01,  5.50559967e-01,\n",
       "         3.71843990e-02,  3.80643631e-01,  5.74985227e-01,\n",
       "         3.69014138e-01,  6.19432713e-01,  5.44287093e-01,\n",
       "         5.19436186e-01,  8.93831781e-01,  1.00176056e+00,\n",
       "         8.56939906e-01,  5.33457264e-01,  6.87719567e-01],\n",
       "       [ 7.45524434e-01,  2.95835766e-01,  7.72598608e-01,\n",
       "         7.23287782e-01,  5.03939011e-01,  8.17009092e-01,\n",
       "         8.62839447e-01,  9.11757700e-01,  4.31054176e-01,\n",
       "         1.75634121e-01,  5.31997297e-01, -1.19848153e-01,\n",
       "         5.55874162e-01,  5.39113790e-01, -1.02186386e-01,\n",
       "         4.84059046e-01,  4.41247742e-01,  6.03510257e-01,\n",
       "        -3.04669411e-02,  2.15582894e-01,  7.88810161e-01,\n",
       "         3.60387980e-01,  8.17759288e-01,  7.48734680e-01,\n",
       "         5.48655147e-01,  8.02490717e-01,  8.56939906e-01,\n",
       "         1.00176056e+00,  5.03413227e-01,  5.12013995e-01],\n",
       "       [ 1.64241985e-01,  1.05192783e-01,  1.89447989e-01,\n",
       "         1.43822678e-01,  3.95003689e-01,  5.11121711e-01,\n",
       "         4.10185014e-01,  3.76405667e-01,  7.01057885e-01,\n",
       "         3.34606745e-01,  9.47092790e-02, -1.28440488e-01,\n",
       "         1.10123974e-01,  7.42567956e-02, -1.07531080e-01,\n",
       "         2.78367653e-01,  1.98136040e-01,  1.43367633e-01,\n",
       "         3.90088053e-01,  1.11289544e-01,  2.43957953e-01,\n",
       "         2.33437721e-01,  2.69967228e-01,  2.09513722e-01,\n",
       "         4.94707764e-01,  6.15522263e-01,  5.33457264e-01,\n",
       "         5.03413227e-01,  1.00176056e+00,  5.38795122e-01],\n",
       "       [ 7.07832563e-03,  1.19415220e-01,  5.11083511e-02,\n",
       "         3.74417763e-03,  5.00195447e-01,  6.88592503e-01,\n",
       "         5.15836457e-01,  3.69310185e-01,  4.39185353e-01,\n",
       "         7.68647654e-01,  4.96466850e-02, -4.57349464e-02,\n",
       "         8.55829815e-02,  1.75701742e-02,  1.01658978e-01,\n",
       "         5.92013208e-01,  4.40102736e-01,  3.11201479e-01,\n",
       "         7.82169401e-02,  5.92369136e-01,  9.36565772e-02,\n",
       "         2.19508204e-01,  1.39201504e-01,  7.97872577e-02,\n",
       "         6.18711558e-01,  8.11881713e-01,  6.87719567e-01,\n",
       "         5.12013995e-01,  5.38795122e-01,  1.00176056e+00]])"
      ]
     },
     "execution_count": 12,
     "metadata": {},
     "output_type": "execute_result"
    }
   ],
   "source": [
    "covariance_matrix = np.cov(scaled_X, rowvar=False)\n",
    "covariance_matrix"
   ]
  },
  {
   "cell_type": "code",
   "execution_count": 13,
   "metadata": {},
   "outputs": [],
   "source": [
    "eigen_values, eigen_vectors = np.linalg.eig(covariance_matrix)"
   ]
  },
  {
   "cell_type": "code",
   "execution_count": 14,
   "metadata": {},
   "outputs": [
    {
     "data": {
      "text/plain": [
       "array([1.33049908e+01, 5.70137460e+00, 2.82291016e+00, 1.98412752e+00,\n",
       "       1.65163324e+00, 1.20948224e+00, 6.76408882e-01, 4.77456255e-01,\n",
       "       4.17628782e-01, 3.51310875e-01, 2.94433153e-01, 2.61621161e-01,\n",
       "       2.41782421e-01, 1.57286149e-01, 9.43006956e-02, 8.00034045e-02,\n",
       "       5.95036135e-02, 5.27114222e-02, 4.95647002e-02, 1.33279057e-04,\n",
       "       7.50121413e-04, 1.59213600e-03, 6.91261258e-03, 8.19203712e-03,\n",
       "       1.55085271e-02, 1.80867940e-02, 2.43836914e-02, 2.74877113e-02,\n",
       "       3.12142606e-02, 3.00256631e-02])"
      ]
     },
     "execution_count": 14,
     "metadata": {},
     "output_type": "execute_result"
    }
   ],
   "source": [
    "eigen_values"
   ]
  },
  {
   "cell_type": "code",
   "execution_count": 16,
   "metadata": {},
   "outputs": [
    {
     "data": {
      "text/plain": [
       "(30, 30)"
      ]
     },
     "execution_count": 16,
     "metadata": {},
     "output_type": "execute_result"
    }
   ],
   "source": [
    "eigen_vectors.shape"
   ]
  },
  {
   "cell_type": "code",
   "execution_count": 17,
   "metadata": {},
   "outputs": [],
   "source": [
    "num_of_components = 2"
   ]
  },
  {
   "cell_type": "code",
   "execution_count": 18,
   "metadata": {},
   "outputs": [],
   "source": [
    "sorted_key = np.argsort(eigen_values)[::-1][:num_of_components]"
   ]
  },
  {
   "cell_type": "code",
   "execution_count": 19,
   "metadata": {},
   "outputs": [
    {
     "data": {
      "text/plain": [
       "array([0, 1])"
      ]
     },
     "execution_count": 19,
     "metadata": {},
     "output_type": "execute_result"
    }
   ],
   "source": [
    "sorted_key"
   ]
  },
  {
   "cell_type": "code",
   "execution_count": 20,
   "metadata": {},
   "outputs": [],
   "source": [
    "eigen_values, eigen_vectors = eigen_values[sorted_key], eigen_vectors[:,sorted_key]"
   ]
  },
  {
   "cell_type": "code",
   "execution_count": 27,
   "metadata": {},
   "outputs": [
    {
     "data": {
      "text/plain": [
       "array([[ 9.19283683,  1.94858307],\n",
       "       [ 2.3878018 , -3.76817174],\n",
       "       [ 5.73389628, -1.0751738 ],\n",
       "       ...,\n",
       "       [ 1.25617928, -1.90229671],\n",
       "       [10.37479406,  1.67201011],\n",
       "       [-5.4752433 , -0.67063679]])"
      ]
     },
     "execution_count": 27,
     "metadata": {},
     "output_type": "execute_result"
    }
   ],
   "source": [
    "# original data --> project --> eigen vectors\n",
    "principal_components = np.dot(scaled_X, eigen_vectors)\n",
    "principal_components"
   ]
  },
  {
   "cell_type": "code",
   "execution_count": 35,
   "metadata": {},
   "outputs": [
    {
     "data": {
      "text/plain": [
       "<matplotlib.collections.PathCollection at 0x7ffb5c5580a0>"
      ]
     },
     "execution_count": 35,
     "metadata": {},
     "output_type": "execute_result"
    },
    {
     "data": {
      "image/png": "[encoded data removed]",
      "text/plain": [
       "<Figure size 640x480 with 1 Axes>"
      ]
     },
     "metadata": {},
     "output_type": "display_data"
    }
   ],
   "source": [
    "plt.scatter(principal_components[:,0], principal_components[:,1], c=cancer_dict['target'])"
   ]
  },
  {
   "cell_type": "code",
   "execution_count": 29,
   "metadata": {},
   "outputs": [],
   "source": [
    "from sklearn.datasets import load_breast_cancer"
   ]
  },
  {
   "cell_type": "code",
   "execution_count": 33,
   "metadata": {},
   "outputs": [
    {
     "data": {
      "text/plain": [
       "sklearn.utils._bunch.Bunch"
      ]
     },
     "execution_count": 33,
     "metadata": {},
     "output_type": "execute_result"
    }
   ],
   "source": [
    "cancer_dict = load_breast_cancer()\n",
    "type(cancer_dict)"
   ]
  },
  {
   "cell_type": "code",
   "execution_count": 34,
   "metadata": {},
   "outputs": [
    {
     "data": {
      "text/plain": [
       "dict_keys(['data', 'target', 'frame', 'target_names', 'DESCR', 'feature_names', 'filename', 'data_module'])"
      ]
     },
     "execution_count": 34,
     "metadata": {},
     "output_type": "execute_result"
    }
   ],
   "source": [
    "cancer_dict.keys()"
   ]
  },
  {
   "cell_type": "code",
   "execution_count": null,
   "metadata": {},
   "outputs": [],
   "source": []
  }
 ],
 "metadata": {
  "kernelspec": {
   "display_name": "tf",
   "language": "python",
   "name": "python3"
  },
  "language_info": {
   "codemirror_mode": {
    "name": "ipython",
    "version": 3
   },
   "file_extension": ".py",
   "mimetype": "text/x-python",
   "name": "python",
   "nbconvert_exporter": "python",
   "pygments_lexer": "ipython3",
   "version": "3.10.15"
  }
 },
 "nbformat": 4,
 "nbformat_minor": 2
}
