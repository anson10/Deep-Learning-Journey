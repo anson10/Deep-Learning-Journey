{
 "cells": [
  {
   "cell_type": "markdown",
   "id": "c80a9057-1489-413a-9206-b72864459917",
   "metadata": {},
   "source": [
    "## DESCRIPTION\n",
    "The MNIST dataset is a classic benchmark in the field of machine learning and computer vision. It consists of a collection of 70,000 grayscale images of handwritten digits (0-9), each with a size of 28x28 pixels. The task is to develop a machine learning model that can accurately classify these images into their respective digit classes based on pixel values."
   ]
  },
  {
   "cell_type": "code",
   "execution_count": null,
   "id": "ad62c398-e7ee-4ff5-9a28-be185e03c32d",
   "metadata": {},
   "outputs": [],
   "source": [
    "#IMPORTING TENSORFLOW\n",
    "\n",
    "import tensorflow as tf;\n"
   ]
  },
  {
   "cell_type": "code",
   "execution_count": null,
   "id": "d66f4f4c-05d6-463c-ad25-9e191cd2e0d5",
   "metadata": {},
   "outputs": [],
   "source": [
    "#LOADING MNIST DATA \n",
    "mnist = tf.keras.datasets.mnist"
   ]
  },
  {
   "cell_type": "code",
   "execution_count": null,
   "id": "fb9e9217-7516-4d73-b364-02393e35a9b6",
   "metadata": {},
   "outputs": [],
   "source": [
    "(X_train, y_train), (X_test, y_test) = mnist.load_data()"
   ]
  },
  {
   "cell_type": "code",
   "execution_count": null,
   "id": "339224e7-10d7-4d4a-ac7f-7f64b2b9b0ec",
   "metadata": {},
   "outputs": [],
   "source": [
    "print(X_train.shape)"
   ]
  },
  {
   "cell_type": "code",
   "execution_count": null,
   "id": "dc701252-e00b-4074-bc38-e39d8d3ed47d",
   "metadata": {},
   "outputs": [],
   "source": [
    "#FLATTENINIG THE DATASET\n",
    "X_train = X_train.reshape(-1, 28*28).astype(\"float32\") / 255.0 \n",
    "#-1 indicates to keep the 60000 as it is\n",
    "X_test = X_test.reshape(-1, 28*28).astype(\"float32\") / 255.0 \n"
   ]
  },
  {
   "cell_type": "code",
   "execution_count": null,
   "id": "c9dae4a6-5994-42bb-99ff-2697b0c2d169",
   "metadata": {},
   "outputs": [],
   "source": [
    "#CREATE A BASIC MODEL\n",
    "# SEQUENTIAL API\n",
    "model = tf.keras.Sequential([\n",
    "    tf.keras.Input(shape=(28*28)),\n",
    "    tf.keras.layers.Dense(512, activation='relu'),\n",
    "    tf.keras.layers.Dense(256, activation='relu'),\n",
    "    tf.keras.layers.Dense(10)\n",
    "])\n",
    "\n",
    "print(model.summary())"
   ]
  },
  {
   "cell_type": "code",
   "execution_count": null,
   "id": "2a91131c-4754-40c9-9217-169d9464efb6",
   "metadata": {},
   "outputs": [],
   "source": [
    "model.compile(\n",
    "    loss=tf.keras.losses.SparseCategoricalCrossentropy(from_logits=True),\n",
    "    optimizer=tf.keras.optimizers.Adam(learning_rate=0.001),\n",
    "    metrics=['accuracy']\n",
    ")"
   ]
  },
  {
   "cell_type": "code",
   "execution_count": null,
   "id": "aa61c52f-c3d5-4db7-b828-e570959a6480",
   "metadata": {},
   "outputs": [],
   "source": [
    "model.fit(X_train, y_train, batch_size=32, epochs =5, verbose=2)\n",
    "model.evaluate(X_test, y_test, batch_size=32, verbose=32)"
   ]
  },
  {
   "cell_type": "code",
   "execution_count": null,
   "id": "f8c26dd9-2b34-42f3-a72a-5d0efe6487fd",
   "metadata": {},
   "outputs": [],
   "source": [
    "# FUNCTIONAL API\n",
    "\n",
    "inputs = tf.keras.Input(shape=(784))\n",
    "x = tf.keras.layers.Dense(1024, activation='relu')(inputs)\n",
    "x = tf.keras.layers.Dense(512, activation='relu')(x)\n",
    "outputs = tf.keras.layers.Dense(10, activation='softmax')(x)\n",
    "model = tf.keras.Model(inputs=inputs, outputs=outputs)"
   ]
  },
  {
   "cell_type": "code",
   "execution_count": null,
   "id": "b73cca75-ebf3-4d12-ac0d-5e944e1bbf88",
   "metadata": {},
   "outputs": [],
   "source": [
    "model.compile(\n",
    "    loss=tf.keras.losses.SparseCategoricalCrossentropy(from_logits=False),\n",
    "    optimizer=tf.keras.optimizers.Adam(learning_rate=0.001),\n",
    "    metrics=['accuracy']\n",
    ")"
   ]
  },
  {
   "cell_type": "code",
   "execution_count": null,
   "id": "d035fa59-5ffa-43a3-8453-f845e828afb3",
   "metadata": {},
   "outputs": [],
   "source": [
    "model.fit(X_train, y_train, batch_size=32, epochs =10)\n"
   ]
  },
  {
   "cell_type": "code",
   "execution_count": null,
   "id": "3227914e-3c4f-47f4-9bcf-d29dbd423954",
   "metadata": {},
   "outputs": [],
   "source": [
    "model.evaluate(X_test, y_test, batch_size=32)"
   ]
  },
  {
   "cell_type": "code",
   "execution_count": null,
   "id": "caaab86a-bd06-4f71-a8fb-c4e926edb22b",
   "metadata": {},
   "outputs": [],
   "source": []
  }
 ],
 "metadata": {
  "kernelspec": {
   "display_name": "Python 3 (ipykernel)",
   "language": "python",
   "name": "python3"
  },
  "language_info": {
   "codemirror_mode": {
    "name": "ipython",
    "version": 3
   },
   "file_extension": ".py",
   "mimetype": "text/x-python",
   "name": "python",
   "nbconvert_exporter": "python",
   "pygments_lexer": "ipython3",
   "version": "3.11.9"
  }
 },
 "nbformat": 4,
 "nbformat_minor": 5
}
