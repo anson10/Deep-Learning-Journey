{
 "cells": [
  {
   "cell_type": "markdown",
   "id": "65e170d1-7b41-4647-bba9-d39cc7a0fe3e",
   "metadata": {},
   "source": [
    "LeNet-5 has:\n",
    "\n",
    "- 2 Convolutional layers.\n",
    "- 3 Fully connected layers.\n",
    "- 2 Average pooling layers.\n",
    "- Tanh as activation function for hidden layer.\n",
    "- Softmax as activation function for output layer.\n",
    "- 60000 trainable parameters.\n",
    "- Cross-entropy as cost function\n",
    "- Gradient descent as optimizer."
   ]
  },
  {
   "cell_type": "code",
   "execution_count": null,
   "id": "8d8bb648-70e8-4208-aa8c-561b55f3aad6",
   "metadata": {},
   "outputs": [],
   "source": [
    "# IMPORTING THE NECESSARY LIBRARIES\n",
    "\n",
    "import numpy as np\n",
    "import matplotlib.pyplot as plt\n",
    "import tensorflow as tf;\n"
   ]
  },
  {
   "cell_type": "code",
   "execution_count": null,
   "id": "e500ec08-081b-47de-a7c0-5c5127d2a9f9",
   "metadata": {},
   "outputs": [],
   "source": [
    "# LOADING THE MNIST DATASET\n",
    "\n",
    "(X_train, y_train), (X_test, y_test) = tf.keras.datasets.mnist.load_data()\n",
    "X_val, y_val = X_train[55000:, ..., np.newaxis], y_train[55000:]\n",
    "X_train, y_train = X_train[:55000, ..., np.newaxis], y_train[:55000]\n",
    "X_test = X_test[..., np.newaxis]\n"
   ]
  },
  {
   "cell_type": "code",
   "execution_count": null,
   "id": "aeb22f8f-7469-48b3-a543-b276078db6e8",
   "metadata": {},
   "outputs": [],
   "source": [
    "print(f\"Image Shape: {X_train[0].shape}\")"
   ]
  },
  {
   "cell_type": "code",
   "execution_count": null,
   "id": "f6d4b510-b26e-4ee5-836c-890f003c2a3a",
   "metadata": {},
   "outputs": [],
   "source": [
    "len(X_train)"
   ]
  },
  {
   "cell_type": "code",
   "execution_count": null,
   "id": "ddb4d98e-a4f2-4955-b18b-581119ddbec4",
   "metadata": {},
   "outputs": [],
   "source": [
    "len(X_test)"
   ]
  },
  {
   "cell_type": "code",
   "execution_count": null,
   "id": "350d2a9c-e678-4b53-8136-1fc9388fb006",
   "metadata": {},
   "outputs": [],
   "source": [
    "len(X_val)"
   ]
  },
  {
   "cell_type": "code",
   "execution_count": null,
   "id": "80b922fb-83ce-4d0e-ba6f-27294ce8adfd",
   "metadata": {},
   "outputs": [],
   "source": [
    "# NORMALIZATION OF OUR DATASET\n",
    "\n",
    "X_train, X_test, X_val = X_train/255.0, X_test/255.0, X_val/255.0"
   ]
  },
  {
   "cell_type": "code",
   "execution_count": null,
   "id": "8a378517-e273-4d2b-b93e-6d850c676a3b",
   "metadata": {},
   "outputs": [],
   "source": [
    "X_train -= np.mean(X_train)\n",
    "X_val -= np.mean(X_val)\n",
    "X_test -= np.mean(X_test)"
   ]
  },
  {
   "cell_type": "code",
   "execution_count": null,
   "id": "f6dfd9c3-d76d-457f-8c00-a0488900be7f",
   "metadata": {},
   "outputs": [],
   "source": [
    "# VISUALIZING THE DATA\n",
    "\n",
    "def plot_digits(X, y):\n",
    "    for i in range(20):\n",
    "        plt.subplot(5,4, i+1)\n",
    "        plt.tight_layout()\n",
    "        plt.imshow(X_train[i], cmap=\"gray\")\n",
    "        plt.title(f'Digit:{y[i]}')\n",
    "        plt.xticks([])\n",
    "        plt.yticks([])\n",
    "\n",
    "    plt.show()\n",
    "\n",
    "plot_digits(X_train, y_train)\n",
    "                   \n"
   ]
  },
  {
   "cell_type": "code",
   "execution_count": null,
   "id": "9dbba2bb-98c8-4763-82fb-e6828a42074e",
   "metadata": {},
   "outputs": [],
   "source": [
    "# BUILDING THE MODEL\n",
    "\n",
    "model = tf.keras.models.Sequential([\n",
    "    tf.keras.layers.Conv2D(6, kernel_size=(5, 5), strides=(1, 1), activation='tanh', input_shape=(28, 28, 1), padding='valid'),\n",
    "    tf.keras.layers.AveragePooling2D(pool_size=(2, 2), strides=(2, 2), padding='valid'),\n",
    "    tf.keras.layers.Conv2D(16, kernel_size=(5,5), strides=(1,1), activation=\"tanh\",padding=\"valid\"),\n",
    "    tf.keras.layers.AveragePooling2D(pool_size=(2,2), strides=(2,2), padding=\"valid\"),\n",
    "\n",
    "    tf.keras.layers.Flatten(),\n",
    "\n",
    "    tf.keras.layers.Dense(120, activation=\"tanh\"),\n",
    "    tf.keras.layers.Dense(84, activation=\"tanh\"),\n",
    "    tf.keras.layers.Dense(10, activation=\"softmax\")\n",
    "])\n",
    "\n",
    "model.compile(\n",
    "    loss=\"sparse_categorical_crossentropy\",\n",
    "    optimizer=\"sgd\",\n",
    "    metrics=[\"accuracy\"]\n",
    ")\n",
    "\n"
   ]
  },
  {
   "cell_type": "code",
   "execution_count": null,
   "id": "360c7662-030c-49d2-b374-d4bd256264b7",
   "metadata": {},
   "outputs": [],
   "source": [
    "model.summary()"
   ]
  },
  {
   "cell_type": "code",
   "execution_count": null,
   "id": "f2ab09c6-c76b-4209-9d87-265f9eb49f7c",
   "metadata": {},
   "outputs": [],
   "source": [
    "history = model.fit(X_train,y_train, validation_data=(X_val, y_val), epochs=20)\n",
    "model.save(\"leNet5_model.h5\")"
   ]
  },
  {
   "cell_type": "code",
   "execution_count": null,
   "id": "640c01e6-9ea4-4a5c-9068-97c1aadd1071",
   "metadata": {},
   "outputs": [],
   "source": [
    "# EVALUATING THE MODEL\n",
    "\n",
    "model = tf.keras.models.load_model('leNet5_model.h5')\n",
    "\n",
    "preds = model.predict(X_test)"
   ]
  },
  {
   "cell_type": "code",
   "execution_count": null,
   "id": "ac0a50e9-a3bc-4a00-b491-4d8e21e770da",
   "metadata": {},
   "outputs": [],
   "source": [
    "y_pred = np.argmax(preds, axis=1)"
   ]
  },
  {
   "cell_type": "code",
   "execution_count": null,
   "id": "398c72ea-dc90-41fc-8579-435f4c0b813d",
   "metadata": {},
   "outputs": [],
   "source": [
    "print('Test set error rate: {}'.format(np.mean(y_pred == y_test)))"
   ]
  },
  {
   "cell_type": "code",
   "execution_count": null,
   "id": "d202aecf-62c1-45ae-82d2-ab9a2c01ee54",
   "metadata": {},
   "outputs": [],
   "source": [
    "print('\\nPlot of training error over 20 epochs:')\n",
    "plt.title('Training error')\n",
    "plt.ylabel('Cost')\n",
    "plt.xlabel('epoch')\n",
    "\n",
    "plt.plot(history.history['loss'])\n",
    "plt.plot(history.history['val_loss'])\n",
    "plt.legend(['train loss', 'val loss'], loc='upper right')\n",
    "plt.show()"
   ]
  },
  {
   "cell_type": "code",
   "execution_count": null,
   "id": "bebd8c8d-a1bc-4ee4-a07e-2ec4188ab5bc",
   "metadata": {},
   "outputs": [],
   "source": []
  }
 ],
 "metadata": {
  "kernelspec": {
   "display_name": "Python 3 (ipykernel)",
   "language": "python",
   "name": "python3"
  },
  "language_info": {
   "codemirror_mode": {
    "name": "ipython",
    "version": 3
   },
   "file_extension": ".py",
   "mimetype": "text/x-python",
   "name": "python",
   "nbconvert_exporter": "python",
   "pygments_lexer": "ipython3",
   "version": "3.11.9"
  }
 },
 "nbformat": 4,
 "nbformat_minor": 5
}
